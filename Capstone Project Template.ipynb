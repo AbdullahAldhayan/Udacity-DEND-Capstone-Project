{
 "cells": [
  {
   "cell_type": "markdown",
   "metadata": {
    "editable": true
   },
   "source": [
    "# Project Title\n",
    "### Data Engineering Capstone Project\n",
    "\n",
    "#### Project Summary\n",
    "--describe your project at a high level--<br>\n",
    "**I94 Immigration data and city temperature data will be used to create a database that is optimized to query and analyze immigration events. An ETL pipeline is to be build with these to data sources to create the database. Finally, the database will be used to access immigration behaviour to location temperatures.**\n",
    "\n",
    "The project follows the follow steps:\n",
    "* Step 1: Scope the Project and Gather Data\n",
    "* Step 2: Explore and Assess the Data\n",
    "* Step 3: Define the Data Model\n",
    "* Step 4: Run ETL to Model the Data\n",
    "* Step 5: Complete Project Write Up"
   ]
  },
  {
   "cell_type": "markdown",
   "metadata": {
    "editable": true
   },
   "source": [
    "### Importing Step\n",
    "Installing **koalas pyarrow** to run **koalas** <br> and Importing libraries those I need.\n"
   ]
  },
  {
   "cell_type": "code",
   "execution_count": 1,
   "metadata": {
    "editable": true
   },
   "outputs": [
    {
     "name": "stdout",
     "output_type": "stream",
     "text": [
      "Requirement already satisfied: koalas in /opt/conda/lib/python3.6/site-packages (1.5.0)\n",
      "Requirement already satisfied: pyarrow in /opt/conda/lib/python3.6/site-packages (2.0.0)\n",
      "Requirement already satisfied: matplotlib<3.3.0,>=3.0.0 in /opt/conda/lib/python3.6/site-packages (from koalas) (3.2.2)\n",
      "Requirement already satisfied: pandas>=0.23.2 in /opt/conda/lib/python3.6/site-packages (from koalas) (0.23.3)\n",
      "Requirement already satisfied: numpy>=1.14 in /opt/conda/lib/python3.6/site-packages (from koalas) (1.19.5)\n",
      "Requirement already satisfied: pyparsing!=2.0.4,!=2.1.2,!=2.1.6,>=2.0.1 in /opt/conda/lib/python3.6/site-packages (from matplotlib<3.3.0,>=3.0.0->koalas) (2.2.0)\n",
      "Requirement already satisfied: cycler>=0.10 in /opt/conda/lib/python3.6/site-packages/cycler-0.10.0-py3.6.egg (from matplotlib<3.3.0,>=3.0.0->koalas) (0.10.0)\n",
      "Requirement already satisfied: kiwisolver>=1.0.1 in /opt/conda/lib/python3.6/site-packages (from matplotlib<3.3.0,>=3.0.0->koalas) (1.3.1)\n",
      "Requirement already satisfied: python-dateutil>=2.1 in /opt/conda/lib/python3.6/site-packages (from matplotlib<3.3.0,>=3.0.0->koalas) (2.6.1)\n",
      "Requirement already satisfied: pytz>=2011k in /opt/conda/lib/python3.6/site-packages (from pandas>=0.23.2->koalas) (2017.3)\n",
      "Requirement already satisfied: six in /opt/conda/lib/python3.6/site-packages (from cycler>=0.10->matplotlib<3.3.0,>=3.0.0->koalas) (1.11.0)\n"
     ]
    }
   ],
   "source": [
    "!pip install koalas pyarrow"
   ]
  },
  {
   "cell_type": "code",
   "execution_count": 2,
   "metadata": {
    "editable": true
   },
   "outputs": [
    {
     "name": "stderr",
     "output_type": "stream",
     "text": [
      "WARNING:root:'ARROW_PRE_0_15_IPC_FORMAT' environment variable was not set. It is required to set this environment variable to '1' in both driver and executor sides if you use pyarrow>=0.15 and pyspark<3.0. Koalas will set it for you but it does not work if there is a Spark context already launched.\n",
      "WARNING:root:'PYARROW_IGNORE_TIMEZONE' environment variable was not set. It is required to set this environment variable to '1' in both driver and executor sides if you use pyarrow>=2.0.0. Koalas will set it for you but it does not work if there is a Spark context already launched.\n"
     ]
    }
   ],
   "source": [
    "# Do all imports and installs here\n",
    "from pyspark.sql import SparkSession\n",
    "\n",
    "import datetime\n",
    "\n",
    "import numpy as np\n",
    "import pandas as pd\n",
    "import databricks.koalas as ks\n",
    "%matplotlib inline\n",
    "import matplotlib.pyplot as plt\n",
    "import pyspark.sql.functions as F"
   ]
  },
  {
   "cell_type": "markdown",
   "metadata": {
    "editable": true
   },
   "source": [
    "### Step 1: Scope the Project and Gather Data\n",
    "\n",
    "#### Scope \n",
    "Explain what you plan to do in the project in more detail. What data do you use? What is your end solution look like? What tools did you use? etc>\n",
    "<br>We would be creating 3 dimension tables and 1 fact table. I94 immigration data is to be aggregated by destination city, then temperature data is to be aggregated by city. These would be the 2 fact tables. Both these tables will be joined on destination city to form fact table. A final database will be created to query on immigration events to determine if temperature affects the selection of destination cities for immigration.\n",
    "#### Describe and Gather Data \n",
    "Describe the data sets you're using. Where did it come from? What type of information is included?<br> \n",
    "I used 3 different engine:<br>\n",
    "* Koalas\n",
    "* Pandas\n",
    "* Pyspark\n",
    "<br>The reason behind these engins is to show the optimization on reading and gathering Data.<br>\n",
    "But almost the whole project has been done by **Koalas**."
   ]
  },
  {
   "cell_type": "code",
   "execution_count": 7,
   "metadata": {
    "editable": true
   },
   "outputs": [
    {
     "name": "stdout",
     "output_type": "stream",
     "text": [
      "CPU times: user 3.76 ms, sys: 3.94 ms, total: 7.7 ms\n",
      "Wall time: 133 ms\n"
     ]
    }
   ],
   "source": [
    "%%time \n",
    "\n",
    "from pyspark.sql import SparkSession\n",
    "spark = SparkSession.builder.\\\n",
    "config(\"spark.jars.packages\",\"saurfang:spark-sas7bdat:2.0.0-s_2.11\")\\\n",
    ".enableHiveSupport().getOrCreate()\n",
    "df_spark =spark.read.format('com.github.saurfang.sas.spark').load('../../data/18-83510-I94-Data-2016/i94_apr16_sub.sas7bdat')\n",
    "#df_spark = spark.createDataFrame(df)"
   ]
  },
  {
   "cell_type": "markdown",
   "metadata": {
    "editable": true
   },
   "source": [
    "%%time\n",
    "# Read in the data here\n",
    "\n",
    "path = '../../data/18-83510-I94-Data-2016/i94_apr16_sub.sas7bdat'\n",
    "df = pd.read_sas(path, 'sas7bdat', encoding=\"ISO-8859-1\")"
   ]
  },
  {
   "cell_type": "code",
   "execution_count": 8,
   "metadata": {
    "editable": true
   },
   "outputs": [
    {
     "name": "stdout",
     "output_type": "stream",
     "text": [
      "CPU times: user 33.9 ms, sys: 19.2 ms, total: 53.1 ms\n",
      "Wall time: 521 ms\n"
     ]
    }
   ],
   "source": [
    "%%time \n",
    "\n",
    "kdf = ks.DataFrame(df_spark)"
   ]
  },
  {
   "cell_type": "markdown",
   "metadata": {
    "editable": true
   },
   "source": [
    "### Reading The second dataset `GlobalLandTemperaturesByCity.csv`"
   ]
  },
  {
   "cell_type": "markdown",
   "metadata": {
    "editable": true
   },
   "source": [
    "%%time\n",
    "\n",
    "temp = '../../data2/GlobalLandTemperaturesByCity.csv'\n",
    "df_tempratures = pd.read_csv(temp)"
   ]
  },
  {
   "cell_type": "code",
   "execution_count": 9,
   "metadata": {
    "editable": true
   },
   "outputs": [
    {
     "name": "stdout",
     "output_type": "stream",
     "text": [
      "+----------+-------------------+-----------------------------+-----+-------+--------+---------+\n",
      "|        dt| AverageTemperature|AverageTemperatureUncertainty| City|Country|Latitude|Longitude|\n",
      "+----------+-------------------+-----------------------------+-----+-------+--------+---------+\n",
      "|1743-11-01|              6.068|           1.7369999999999999|Århus|Denmark|  57.05N|   10.33E|\n",
      "|1743-12-01|               null|                         null|Århus|Denmark|  57.05N|   10.33E|\n",
      "|1744-01-01|               null|                         null|Århus|Denmark|  57.05N|   10.33E|\n",
      "|1744-02-01|               null|                         null|Århus|Denmark|  57.05N|   10.33E|\n",
      "|1744-03-01|               null|                         null|Århus|Denmark|  57.05N|   10.33E|\n",
      "|1744-04-01| 5.7879999999999985|           3.6239999999999997|Århus|Denmark|  57.05N|   10.33E|\n",
      "|1744-05-01|             10.644|           1.2830000000000001|Århus|Denmark|  57.05N|   10.33E|\n",
      "|1744-06-01| 14.050999999999998|                        1.347|Århus|Denmark|  57.05N|   10.33E|\n",
      "|1744-07-01|             16.082|                        1.396|Århus|Denmark|  57.05N|   10.33E|\n",
      "|1744-08-01|               null|                         null|Århus|Denmark|  57.05N|   10.33E|\n",
      "|1744-09-01| 12.780999999999999|                        1.454|Århus|Denmark|  57.05N|   10.33E|\n",
      "|1744-10-01|               7.95|                         1.63|Århus|Denmark|  57.05N|   10.33E|\n",
      "|1744-11-01|  4.638999999999999|           1.3019999999999998|Århus|Denmark|  57.05N|   10.33E|\n",
      "|1744-12-01|0.12199999999999987|                        1.756|Århus|Denmark|  57.05N|   10.33E|\n",
      "|1745-01-01|-1.3330000000000002|                        1.642|Århus|Denmark|  57.05N|   10.33E|\n",
      "|1745-02-01|             -2.732|                        1.358|Århus|Denmark|  57.05N|   10.33E|\n",
      "|1745-03-01|              0.129|                        1.088|Århus|Denmark|  57.05N|   10.33E|\n",
      "|1745-04-01|              4.042|                        1.138|Århus|Denmark|  57.05N|   10.33E|\n",
      "|1745-05-01|               null|                         null|Århus|Denmark|  57.05N|   10.33E|\n",
      "|1745-06-01|               null|                         null|Århus|Denmark|  57.05N|   10.33E|\n",
      "+----------+-------------------+-----------------------------+-----+-------+--------+---------+\n",
      "only showing top 20 rows\n",
      "\n",
      "CPU times: user 3.24 ms, sys: 349 µs, total: 3.59 ms\n",
      "Wall time: 1.09 s\n"
     ]
    }
   ],
   "source": [
    "%%time \n",
    "\n",
    "df_spark_csv = spark.read.option(\"header\",True).csv(\"../../data2/GlobalLandTemperaturesByCity.csv\")\n",
    "df_spark_csv.show()"
   ]
  },
  {
   "cell_type": "code",
   "execution_count": 10,
   "metadata": {
    "editable": true
   },
   "outputs": [
    {
     "name": "stdout",
     "output_type": "stream",
     "text": [
      "root\n",
      " |-- dt: string (nullable = true)\n",
      " |-- AverageTemperature: string (nullable = true)\n",
      " |-- AverageTemperatureUncertainty: string (nullable = true)\n",
      " |-- City: string (nullable = true)\n",
      " |-- Country: string (nullable = true)\n",
      " |-- Latitude: string (nullable = true)\n",
      " |-- Longitude: string (nullable = true)\n",
      "\n"
     ]
    }
   ],
   "source": [
    "df_spark_csv.printSchema()"
   ]
  },
  {
   "cell_type": "code",
   "execution_count": 11,
   "metadata": {
    "editable": true
   },
   "outputs": [
    {
     "name": "stdout",
     "output_type": "stream",
     "text": [
      "CPU times: user 22.3 ms, sys: 5.1 ms, total: 27.4 ms\n",
      "Wall time: 271 ms\n"
     ]
    }
   ],
   "source": [
    "%%time\n",
    "\n",
    "kdf_tempratures = ks.DataFrame(df_spark_csv)"
   ]
  },
  {
   "cell_type": "markdown",
   "metadata": {
    "editable": true
   },
   "source": [
    "%%time \n",
    "\n",
    "temp = '../../data2/GlobalLandTemperaturesByCity.csv'\n",
    "kdf_tempratures = ks.read_csv(temp)"
   ]
  },
  {
   "cell_type": "markdown",
   "metadata": {
    "editable": true
   },
   "source": [
    "Reading CSV files in `Pandas` more faster than `Koalas`."
   ]
  },
  {
   "cell_type": "code",
   "execution_count": null,
   "metadata": {
    "editable": true
   },
   "outputs": [],
   "source": []
  },
  {
   "cell_type": "code",
   "execution_count": null,
   "metadata": {
    "editable": true
   },
   "outputs": [],
   "source": []
  },
  {
   "cell_type": "code",
   "execution_count": null,
   "metadata": {
    "editable": true
   },
   "outputs": [],
   "source": []
  },
  {
   "cell_type": "markdown",
   "metadata": {
    "editable": true
   },
   "source": [
    "### Step 2: Explore and Assess the Data\n",
    "#### 1. Explore the Data \n",
    "Identify data quality issues, like missing values, duplicate data, etc.\n",
    "\n",
    "#### 2. Cleaning Steps\n",
    "Document steps necessary to clean the data"
   ]
  },
  {
   "cell_type": "markdown",
   "metadata": {
    "editable": true
   },
   "source": [
    "### 1. Explore"
   ]
  },
  {
   "cell_type": "code",
   "execution_count": 12,
   "metadata": {
    "editable": true
   },
   "outputs": [
    {
     "data": {
      "text/html": [
       "<div>\n",
       "<style scoped>\n",
       "    .dataframe tbody tr th:only-of-type {\n",
       "        vertical-align: middle;\n",
       "    }\n",
       "\n",
       "    .dataframe tbody tr th {\n",
       "        vertical-align: top;\n",
       "    }\n",
       "\n",
       "    .dataframe thead th {\n",
       "        text-align: right;\n",
       "    }\n",
       "</style>\n",
       "<table border=\"1\" class=\"dataframe\">\n",
       "  <thead>\n",
       "    <tr style=\"text-align: right;\">\n",
       "      <th></th>\n",
       "      <th>cicid</th>\n",
       "      <th>i94yr</th>\n",
       "      <th>i94mon</th>\n",
       "      <th>i94cit</th>\n",
       "      <th>i94res</th>\n",
       "      <th>i94port</th>\n",
       "      <th>arrdate</th>\n",
       "      <th>i94mode</th>\n",
       "      <th>i94addr</th>\n",
       "      <th>depdate</th>\n",
       "      <th>i94bir</th>\n",
       "      <th>i94visa</th>\n",
       "      <th>count</th>\n",
       "      <th>dtadfile</th>\n",
       "      <th>visapost</th>\n",
       "      <th>occup</th>\n",
       "      <th>entdepa</th>\n",
       "      <th>entdepd</th>\n",
       "      <th>entdepu</th>\n",
       "      <th>matflag</th>\n",
       "      <th>biryear</th>\n",
       "      <th>dtaddto</th>\n",
       "      <th>gender</th>\n",
       "      <th>insnum</th>\n",
       "      <th>airline</th>\n",
       "      <th>admnum</th>\n",
       "      <th>fltno</th>\n",
       "      <th>visatype</th>\n",
       "    </tr>\n",
       "  </thead>\n",
       "  <tbody>\n",
       "    <tr>\n",
       "      <th>0</th>\n",
       "      <td>6.0</td>\n",
       "      <td>2016.0</td>\n",
       "      <td>4.0</td>\n",
       "      <td>692.0</td>\n",
       "      <td>692.0</td>\n",
       "      <td>XXX</td>\n",
       "      <td>20573.0</td>\n",
       "      <td>NaN</td>\n",
       "      <td>None</td>\n",
       "      <td>NaN</td>\n",
       "      <td>37.0</td>\n",
       "      <td>2.0</td>\n",
       "      <td>1.0</td>\n",
       "      <td>None</td>\n",
       "      <td>None</td>\n",
       "      <td>None</td>\n",
       "      <td>T</td>\n",
       "      <td>None</td>\n",
       "      <td>U</td>\n",
       "      <td>None</td>\n",
       "      <td>1979.0</td>\n",
       "      <td>10282016</td>\n",
       "      <td>None</td>\n",
       "      <td>None</td>\n",
       "      <td>None</td>\n",
       "      <td>1.897628e+09</td>\n",
       "      <td>None</td>\n",
       "      <td>B2</td>\n",
       "    </tr>\n",
       "    <tr>\n",
       "      <th>1</th>\n",
       "      <td>7.0</td>\n",
       "      <td>2016.0</td>\n",
       "      <td>4.0</td>\n",
       "      <td>254.0</td>\n",
       "      <td>276.0</td>\n",
       "      <td>ATL</td>\n",
       "      <td>20551.0</td>\n",
       "      <td>1.0</td>\n",
       "      <td>AL</td>\n",
       "      <td>NaN</td>\n",
       "      <td>25.0</td>\n",
       "      <td>3.0</td>\n",
       "      <td>1.0</td>\n",
       "      <td>20130811</td>\n",
       "      <td>SEO</td>\n",
       "      <td>None</td>\n",
       "      <td>G</td>\n",
       "      <td>None</td>\n",
       "      <td>Y</td>\n",
       "      <td>None</td>\n",
       "      <td>1991.0</td>\n",
       "      <td>D/S</td>\n",
       "      <td>M</td>\n",
       "      <td>None</td>\n",
       "      <td>None</td>\n",
       "      <td>3.736796e+09</td>\n",
       "      <td>00296</td>\n",
       "      <td>F1</td>\n",
       "    </tr>\n",
       "    <tr>\n",
       "      <th>2</th>\n",
       "      <td>15.0</td>\n",
       "      <td>2016.0</td>\n",
       "      <td>4.0</td>\n",
       "      <td>101.0</td>\n",
       "      <td>101.0</td>\n",
       "      <td>WAS</td>\n",
       "      <td>20545.0</td>\n",
       "      <td>1.0</td>\n",
       "      <td>MI</td>\n",
       "      <td>20691.0</td>\n",
       "      <td>55.0</td>\n",
       "      <td>2.0</td>\n",
       "      <td>1.0</td>\n",
       "      <td>20160401</td>\n",
       "      <td>None</td>\n",
       "      <td>None</td>\n",
       "      <td>T</td>\n",
       "      <td>O</td>\n",
       "      <td>None</td>\n",
       "      <td>M</td>\n",
       "      <td>1961.0</td>\n",
       "      <td>09302016</td>\n",
       "      <td>M</td>\n",
       "      <td>None</td>\n",
       "      <td>OS</td>\n",
       "      <td>6.666432e+08</td>\n",
       "      <td>93</td>\n",
       "      <td>B2</td>\n",
       "    </tr>\n",
       "    <tr>\n",
       "      <th>3</th>\n",
       "      <td>16.0</td>\n",
       "      <td>2016.0</td>\n",
       "      <td>4.0</td>\n",
       "      <td>101.0</td>\n",
       "      <td>101.0</td>\n",
       "      <td>NYC</td>\n",
       "      <td>20545.0</td>\n",
       "      <td>1.0</td>\n",
       "      <td>MA</td>\n",
       "      <td>20567.0</td>\n",
       "      <td>28.0</td>\n",
       "      <td>2.0</td>\n",
       "      <td>1.0</td>\n",
       "      <td>20160401</td>\n",
       "      <td>None</td>\n",
       "      <td>None</td>\n",
       "      <td>O</td>\n",
       "      <td>O</td>\n",
       "      <td>None</td>\n",
       "      <td>M</td>\n",
       "      <td>1988.0</td>\n",
       "      <td>09302016</td>\n",
       "      <td>None</td>\n",
       "      <td>None</td>\n",
       "      <td>AA</td>\n",
       "      <td>9.246846e+10</td>\n",
       "      <td>00199</td>\n",
       "      <td>B2</td>\n",
       "    </tr>\n",
       "    <tr>\n",
       "      <th>4</th>\n",
       "      <td>17.0</td>\n",
       "      <td>2016.0</td>\n",
       "      <td>4.0</td>\n",
       "      <td>101.0</td>\n",
       "      <td>101.0</td>\n",
       "      <td>NYC</td>\n",
       "      <td>20545.0</td>\n",
       "      <td>1.0</td>\n",
       "      <td>MA</td>\n",
       "      <td>20567.0</td>\n",
       "      <td>4.0</td>\n",
       "      <td>2.0</td>\n",
       "      <td>1.0</td>\n",
       "      <td>20160401</td>\n",
       "      <td>None</td>\n",
       "      <td>None</td>\n",
       "      <td>O</td>\n",
       "      <td>O</td>\n",
       "      <td>None</td>\n",
       "      <td>M</td>\n",
       "      <td>2012.0</td>\n",
       "      <td>09302016</td>\n",
       "      <td>None</td>\n",
       "      <td>None</td>\n",
       "      <td>AA</td>\n",
       "      <td>9.246846e+10</td>\n",
       "      <td>00199</td>\n",
       "      <td>B2</td>\n",
       "    </tr>\n",
       "  </tbody>\n",
       "</table>\n",
       "</div>"
      ],
      "text/plain": [
       "   cicid   i94yr  i94mon  i94cit  i94res i94port  arrdate  i94mode i94addr  depdate  i94bir  i94visa  count  dtadfile visapost occup entdepa entdepd entdepu matflag  biryear   dtaddto gender insnum airline        admnum  fltno visatype\n",
       "0    6.0  2016.0     4.0   692.0   692.0     XXX  20573.0      NaN    None      NaN    37.0      2.0    1.0      None     None  None       T    None       U    None   1979.0  10282016   None   None    None  1.897628e+09   None       B2\n",
       "1    7.0  2016.0     4.0   254.0   276.0     ATL  20551.0      1.0      AL      NaN    25.0      3.0    1.0  20130811      SEO  None       G    None       Y    None   1991.0       D/S      M   None    None  3.736796e+09  00296       F1\n",
       "2   15.0  2016.0     4.0   101.0   101.0     WAS  20545.0      1.0      MI  20691.0    55.0      2.0    1.0  20160401     None  None       T       O    None       M   1961.0  09302016      M   None      OS  6.666432e+08     93       B2\n",
       "3   16.0  2016.0     4.0   101.0   101.0     NYC  20545.0      1.0      MA  20567.0    28.0      2.0    1.0  20160401     None  None       O       O    None       M   1988.0  09302016   None   None      AA  9.246846e+10  00199       B2\n",
       "4   17.0  2016.0     4.0   101.0   101.0     NYC  20545.0      1.0      MA  20567.0     4.0      2.0    1.0  20160401     None  None       O       O    None       M   2012.0  09302016   None   None      AA  9.246846e+10  00199       B2"
      ]
     },
     "execution_count": 12,
     "metadata": {},
     "output_type": "execute_result"
    }
   ],
   "source": [
    "kdf.head()"
   ]
  },
  {
   "cell_type": "code",
   "execution_count": 13,
   "metadata": {
    "editable": true
   },
   "outputs": [
    {
     "name": "stderr",
     "output_type": "stream",
     "text": [
      "/opt/conda/lib/python3.6/site-packages/databricks/koalas/generic.py:406: FutureWarning: `get_dtype_counts` has been deprecated and will be removed in a future version. For DataFrames use `.dtypes.value_counts()\n",
      "  FutureWarning,\n"
     ]
    },
    {
     "name": "stdout",
     "output_type": "stream",
     "text": [
      "databricks.koalas.frame.DataFrame\n",
      "Index: 3096313 entries, 0 to 3096312\n",
      "Data columns (total 28 columns):\n",
      "cicid       3096313 non-null float64\n",
      "i94yr       3096313 non-null float64\n",
      "i94mon      3096313 non-null float64\n",
      "i94cit      3096313 non-null float64\n",
      "i94res      3096313 non-null float64\n",
      "i94port     3096313 non-null object\n",
      "arrdate     3096313 non-null float64\n",
      "i94mode     3096074 non-null float64\n",
      "i94addr     2943721 non-null object\n",
      "depdate     2953856 non-null float64\n",
      "i94bir      3095511 non-null float64\n",
      "i94visa     3096313 non-null float64\n",
      "count       3096313 non-null float64\n",
      "dtadfile    3096312 non-null object\n",
      "visapost    1215063 non-null object\n",
      "occup       8126 non-null object\n",
      "entdepa     3096075 non-null object\n",
      "entdepd     2957884 non-null object\n",
      "entdepu     392 non-null object\n",
      "matflag     2957884 non-null object\n",
      "biryear     3095511 non-null float64\n",
      "dtaddto     3095836 non-null object\n",
      "gender      2682044 non-null object\n",
      "insnum      113708 non-null object\n",
      "airline     3012686 non-null object\n",
      "admnum      3096313 non-null float64\n",
      "fltno       3076764 non-null object\n",
      "visatype    3096313 non-null object\n",
      "dtypes: float64(13), object(15)"
     ]
    }
   ],
   "source": [
    "kdf.info()"
   ]
  },
  {
   "cell_type": "markdown",
   "metadata": {
    "editable": true
   },
   "source": [
    "%%time\n",
    "\n",
    "df.head()"
   ]
  },
  {
   "cell_type": "markdown",
   "metadata": {
    "editable": true
   },
   "source": [
    "%%time\n",
    "\n",
    "df.info()"
   ]
  },
  {
   "cell_type": "code",
   "execution_count": 14,
   "metadata": {
    "editable": true
   },
   "outputs": [
    {
     "name": "stdout",
     "output_type": "stream",
     "text": [
      "CPU times: user 18 ms, sys: 8.27 ms, total: 26.3 ms\n",
      "Wall time: 85.5 ms\n"
     ]
    },
    {
     "data": {
      "text/html": [
       "<div>\n",
       "<style scoped>\n",
       "    .dataframe tbody tr th:only-of-type {\n",
       "        vertical-align: middle;\n",
       "    }\n",
       "\n",
       "    .dataframe tbody tr th {\n",
       "        vertical-align: top;\n",
       "    }\n",
       "\n",
       "    .dataframe thead th {\n",
       "        text-align: right;\n",
       "    }\n",
       "</style>\n",
       "<table border=\"1\" class=\"dataframe\">\n",
       "  <thead>\n",
       "    <tr style=\"text-align: right;\">\n",
       "      <th></th>\n",
       "      <th>dt</th>\n",
       "      <th>AverageTemperature</th>\n",
       "      <th>AverageTemperatureUncertainty</th>\n",
       "      <th>City</th>\n",
       "      <th>Country</th>\n",
       "      <th>Latitude</th>\n",
       "      <th>Longitude</th>\n",
       "    </tr>\n",
       "  </thead>\n",
       "  <tbody>\n",
       "    <tr>\n",
       "      <th>0</th>\n",
       "      <td>1743-11-01</td>\n",
       "      <td>6.068</td>\n",
       "      <td>1.7369999999999999</td>\n",
       "      <td>Århus</td>\n",
       "      <td>Denmark</td>\n",
       "      <td>57.05N</td>\n",
       "      <td>10.33E</td>\n",
       "    </tr>\n",
       "    <tr>\n",
       "      <th>1</th>\n",
       "      <td>1743-12-01</td>\n",
       "      <td>None</td>\n",
       "      <td>None</td>\n",
       "      <td>Århus</td>\n",
       "      <td>Denmark</td>\n",
       "      <td>57.05N</td>\n",
       "      <td>10.33E</td>\n",
       "    </tr>\n",
       "    <tr>\n",
       "      <th>2</th>\n",
       "      <td>1744-01-01</td>\n",
       "      <td>None</td>\n",
       "      <td>None</td>\n",
       "      <td>Århus</td>\n",
       "      <td>Denmark</td>\n",
       "      <td>57.05N</td>\n",
       "      <td>10.33E</td>\n",
       "    </tr>\n",
       "    <tr>\n",
       "      <th>3</th>\n",
       "      <td>1744-02-01</td>\n",
       "      <td>None</td>\n",
       "      <td>None</td>\n",
       "      <td>Århus</td>\n",
       "      <td>Denmark</td>\n",
       "      <td>57.05N</td>\n",
       "      <td>10.33E</td>\n",
       "    </tr>\n",
       "    <tr>\n",
       "      <th>4</th>\n",
       "      <td>1744-03-01</td>\n",
       "      <td>None</td>\n",
       "      <td>None</td>\n",
       "      <td>Århus</td>\n",
       "      <td>Denmark</td>\n",
       "      <td>57.05N</td>\n",
       "      <td>10.33E</td>\n",
       "    </tr>\n",
       "  </tbody>\n",
       "</table>\n",
       "</div>"
      ],
      "text/plain": [
       "           dt AverageTemperature AverageTemperatureUncertainty   City  Country Latitude Longitude\n",
       "0  1743-11-01              6.068            1.7369999999999999  Århus  Denmark   57.05N    10.33E\n",
       "1  1743-12-01               None                          None  Århus  Denmark   57.05N    10.33E\n",
       "2  1744-01-01               None                          None  Århus  Denmark   57.05N    10.33E\n",
       "3  1744-02-01               None                          None  Århus  Denmark   57.05N    10.33E\n",
       "4  1744-03-01               None                          None  Århus  Denmark   57.05N    10.33E"
      ]
     },
     "execution_count": 14,
     "metadata": {},
     "output_type": "execute_result"
    }
   ],
   "source": [
    "%%time\n",
    "\n",
    "kdf_tempratures.head()"
   ]
  },
  {
   "cell_type": "markdown",
   "metadata": {
    "editable": true
   },
   "source": [
    "%%time\n",
    "\n",
    "df_tempratures.head()"
   ]
  },
  {
   "cell_type": "markdown",
   "metadata": {
    "editable": true
   },
   "source": [
    "%time\n",
    "\n",
    "df_tempratures.info()"
   ]
  },
  {
   "cell_type": "code",
   "execution_count": 15,
   "metadata": {
    "editable": true
   },
   "outputs": [
    {
     "name": "stdout",
     "output_type": "stream",
     "text": [
      "CPU times: user 3.4 ms, sys: 0 ns, total: 3.4 ms\n",
      "Wall time: 6.09 s\n"
     ]
    },
    {
     "data": {
      "text/plain": [
       "(8599212, 7)"
      ]
     },
     "execution_count": 15,
     "metadata": {},
     "output_type": "execute_result"
    }
   ],
   "source": [
    "%%time\n",
    "\n",
    "kdf_tempratures.shape"
   ]
  },
  {
   "cell_type": "markdown",
   "metadata": {
    "editable": true
   },
   "source": [
    "%%time\n",
    "\n",
    "df_tempratures.shape"
   ]
  },
  {
   "cell_type": "code",
   "execution_count": 16,
   "metadata": {
    "editable": true
   },
   "outputs": [
    {
     "data": {
      "text/plain": [
       "False    8235082\n",
       "True      364130\n",
       "Name: AverageTemperature, dtype: int64"
      ]
     },
     "execution_count": 16,
     "metadata": {},
     "output_type": "execute_result"
    }
   ],
   "source": [
    "kdf_tempratures.AverageTemperature.isnull().value_counts()"
   ]
  },
  {
   "cell_type": "code",
   "execution_count": 17,
   "metadata": {
    "editable": true
   },
   "outputs": [
    {
     "name": "stderr",
     "output_type": "stream",
     "text": [
      "/opt/conda/lib/python3.6/site-packages/databricks/koalas/generic.py:604: UserWarning: We recommend using `Series.to_numpy()` instead.\n",
      "  warnings.warn(\"We recommend using `{}.to_numpy()` instead.\".format(type(self).__name__))\n"
     ]
    },
    {
     "data": {
      "text/plain": [
       "False"
      ]
     },
     "execution_count": 17,
     "metadata": {},
     "output_type": "execute_result"
    }
   ],
   "source": [
    "#False : means no null values.\n",
    "kdf.i94port.isnull().values.any()"
   ]
  },
  {
   "cell_type": "code",
   "execution_count": 18,
   "metadata": {
    "editable": true
   },
   "outputs": [
    {
     "data": {
      "text/plain": [
       "0"
      ]
     },
     "execution_count": 18,
     "metadata": {},
     "output_type": "execute_result"
    }
   ],
   "source": [
    "#The result : 0. that means no null values.\n",
    "kdf.i94port.isnull().sum()"
   ]
  },
  {
   "cell_type": "code",
   "execution_count": 19,
   "metadata": {
    "editable": true
   },
   "outputs": [
    {
     "data": {
      "text/plain": [
       "3096313"
      ]
     },
     "execution_count": 19,
     "metadata": {},
     "output_type": "execute_result"
    }
   ],
   "source": [
    "kdf.i94port.count()"
   ]
  },
  {
   "cell_type": "code",
   "execution_count": 20,
   "metadata": {
    "editable": true
   },
   "outputs": [
    {
     "data": {
      "text/plain": [
       "1.0    3096313\n",
       "Name: count, dtype: int64"
      ]
     },
     "execution_count": 20,
     "metadata": {},
     "output_type": "execute_result"
    }
   ],
   "source": [
    "kdf['count'].value_counts()"
   ]
  },
  {
   "cell_type": "code",
   "execution_count": 21,
   "metadata": {
    "editable": true
   },
   "outputs": [
    {
     "data": {
      "text/plain": [
       "0        NaN\n",
       "1        NaN\n",
       "2    20691.0\n",
       "3    20567.0\n",
       "4    20567.0\n",
       "Name: depdate, dtype: float64"
      ]
     },
     "execution_count": 21,
     "metadata": {},
     "output_type": "execute_result"
    }
   ],
   "source": [
    "kdf.depdate.head()"
   ]
  },
  {
   "cell_type": "code",
   "execution_count": 22,
   "metadata": {
    "editable": true
   },
   "outputs": [
    {
     "data": {
      "text/plain": [
       "False    2953856\n",
       "True      142457\n",
       "Name: depdate, dtype: int64"
      ]
     },
     "execution_count": 22,
     "metadata": {},
     "output_type": "execute_result"
    }
   ],
   "source": [
    "kdf.depdate.isnull().value_counts()"
   ]
  },
  {
   "cell_type": "code",
   "execution_count": 23,
   "metadata": {
    "editable": true
   },
   "outputs": [
    {
     "data": {
      "text/plain": [
       "0        NaN\n",
       "1        NaN\n",
       "2    20691.0\n",
       "3    20567.0\n",
       "4    20567.0\n",
       "Name: depdate, dtype: float64"
      ]
     },
     "execution_count": 23,
     "metadata": {},
     "output_type": "execute_result"
    }
   ],
   "source": [
    "#fill missing values with 0.\n",
    "kdf.depdate.fillna(0)\n",
    "kdf.depdate.head()"
   ]
  },
  {
   "cell_type": "markdown",
   "metadata": {
    "editable": true
   },
   "source": [
    "### 2. Cleaning"
   ]
  },
  {
   "cell_type": "markdown",
   "metadata": {
    "editable": true
   },
   "source": [
    "Defining quality issues in data:\n",
    "1. **i94yr** : The year should be a datetime or integer.\n",
    "2. **i94port** : has XXX which means nothing and if there any missing value.\n",
    "3. **count** : all the values of this column has '1' which is not useful, so should be removed.\n",
    "4. **AverageTempratures** : has 364130 missing values which are should be removed.\n",
    "5. **depdate** : will be converted to YYYY-MM-DD format.\n",
    "6. **dt** : should be converted to datetime."
   ]
  },
  {
   "cell_type": "markdown",
   "metadata": {
    "editable": true
   },
   "source": [
    "Converting `dt` to datetime."
   ]
  },
  {
   "cell_type": "code",
   "execution_count": 24,
   "metadata": {
    "editable": true
   },
   "outputs": [
    {
     "name": "stdout",
     "output_type": "stream",
     "text": [
      "databricks.koalas.frame.DataFrame\n",
      "Index: 8599212 entries, 0 to 8599211\n",
      "Data columns (total 7 columns):\n",
      "dt                               8599212 non-null object\n",
      "AverageTemperature               8235082 non-null object\n",
      "AverageTemperatureUncertainty    8235082 non-null object\n",
      "City                             8599212 non-null object\n",
      "Country                          8599212 non-null object\n",
      "Latitude                         8599212 non-null object\n",
      "Longitude                        8599212 non-null object\n",
      "dtypes: object(7)"
     ]
    },
    {
     "name": "stderr",
     "output_type": "stream",
     "text": [
      "/opt/conda/lib/python3.6/site-packages/databricks/koalas/generic.py:406: FutureWarning: `get_dtype_counts` has been deprecated and will be removed in a future version. For DataFrames use `.dtypes.value_counts()\n",
      "  FutureWarning,\n"
     ]
    }
   ],
   "source": [
    "kdf_tempratures.info()"
   ]
  },
  {
   "cell_type": "code",
   "execution_count": 25,
   "metadata": {
    "editable": true
   },
   "outputs": [
    {
     "data": {
      "text/plain": [
       "0   1743-11-01\n",
       "1   1743-12-01\n",
       "2   1744-01-01\n",
       "3   1744-02-01\n",
       "4   1744-03-01\n",
       "Name: dt, dtype: datetime64[ns]"
      ]
     },
     "execution_count": 25,
     "metadata": {},
     "output_type": "execute_result"
    }
   ],
   "source": [
    "kdf_tempratures.dt = ks.to_datetime(kdf_tempratures.dt)\n",
    "kdf_tempratures.dt.head()"
   ]
  },
  {
   "cell_type": "markdown",
   "metadata": {
    "editable": true
   },
   "source": [
    "Data quality check"
   ]
  },
  {
   "cell_type": "code",
   "execution_count": 26,
   "metadata": {
    "editable": true
   },
   "outputs": [
    {
     "name": "stdout",
     "output_type": "stream",
     "text": [
      "databricks.koalas.frame.DataFrame\n",
      "Index: 8599212 entries, 0 to 8599211\n",
      "Data columns (total 7 columns):\n",
      "dt                               8599212 non-null object\n",
      "AverageTemperature               8235082 non-null object\n",
      "AverageTemperatureUncertainty    8235082 non-null object\n",
      "City                             8599212 non-null object\n",
      "Country                          8599212 non-null object\n",
      "Latitude                         8599212 non-null object\n",
      "Longitude                        8599212 non-null object\n",
      "dtypes: object(7)"
     ]
    },
    {
     "name": "stderr",
     "output_type": "stream",
     "text": [
      "/opt/conda/lib/python3.6/site-packages/databricks/koalas/generic.py:406: FutureWarning: `get_dtype_counts` has been deprecated and will be removed in a future version. For DataFrames use `.dtypes.value_counts()\n",
      "  FutureWarning,\n"
     ]
    }
   ],
   "source": [
    "kdf_tempratures.info()"
   ]
  },
  {
   "cell_type": "markdown",
   "metadata": {
    "editable": true
   },
   "source": [
    "**AverageTemperature**: Drop all missing values in "
   ]
  },
  {
   "cell_type": "code",
   "execution_count": 27,
   "metadata": {
    "editable": true
   },
   "outputs": [
    {
     "data": {
      "text/plain": [
       "False    8235082\n",
       "True      364130\n",
       "Name: AverageTemperature, dtype: int64"
      ]
     },
     "execution_count": 27,
     "metadata": {},
     "output_type": "execute_result"
    }
   ],
   "source": [
    "kdf_tempratures.AverageTemperature.isnull().value_counts()"
   ]
  },
  {
   "cell_type": "markdown",
   "metadata": {
    "editable": true
   },
   "source": [
    "Data quality check:"
   ]
  },
  {
   "cell_type": "code",
   "execution_count": 28,
   "metadata": {
    "editable": true
   },
   "outputs": [
    {
     "data": {
      "text/plain": [
       "False    8235082\n",
       "Name: AverageTemperature, dtype: int64"
      ]
     },
     "execution_count": 28,
     "metadata": {},
     "output_type": "execute_result"
    }
   ],
   "source": [
    "kdf_tempratures.dropna(subset=['AverageTemperature'], inplace= True)\n",
    "kdf_tempratures.AverageTemperature.isnull().value_counts()"
   ]
  },
  {
   "cell_type": "code",
   "execution_count": null,
   "metadata": {
    "editable": true
   },
   "outputs": [],
   "source": []
  },
  {
   "cell_type": "code",
   "execution_count": null,
   "metadata": {
    "editable": true
   },
   "outputs": [],
   "source": []
  },
  {
   "cell_type": "code",
   "execution_count": null,
   "metadata": {
    "editable": true
   },
   "outputs": [],
   "source": []
  },
  {
   "cell_type": "markdown",
   "metadata": {
    "editable": true
   },
   "source": [
    "**i94yr** : The year should be an integer."
   ]
  },
  {
   "cell_type": "code",
   "execution_count": 29,
   "metadata": {
    "editable": true
   },
   "outputs": [
    {
     "data": {
      "text/plain": [
       "dtype('float64')"
      ]
     },
     "execution_count": 29,
     "metadata": {},
     "output_type": "execute_result"
    }
   ],
   "source": [
    "kdf.i94yr.dtype"
   ]
  },
  {
   "cell_type": "code",
   "execution_count": 30,
   "metadata": {
    "editable": true
   },
   "outputs": [
    {
     "data": {
      "text/plain": [
       "dtype('int64')"
      ]
     },
     "execution_count": 30,
     "metadata": {},
     "output_type": "execute_result"
    }
   ],
   "source": [
    "kdf.i94yr.astype('int64').dtype"
   ]
  },
  {
   "cell_type": "markdown",
   "metadata": {
    "editable": true
   },
   "source": [
    "Data quality check:"
   ]
  },
  {
   "cell_type": "code",
   "execution_count": 31,
   "metadata": {
    "editable": true
   },
   "outputs": [
    {
     "data": {
      "text/plain": [
       "0    2016\n",
       "1    2016\n",
       "2    2016\n",
       "3    2016\n",
       "4    2016\n",
       "Name: i94yr, dtype: int64"
      ]
     },
     "execution_count": 31,
     "metadata": {},
     "output_type": "execute_result"
    }
   ],
   "source": [
    "kdf.i94yr = kdf.i94yr.astype('int64')\n",
    "kdf.i94yr.head()"
   ]
  },
  {
   "cell_type": "code",
   "execution_count": 32,
   "metadata": {
    "editable": true
   },
   "outputs": [
    {
     "name": "stderr",
     "output_type": "stream",
     "text": [
      "/opt/conda/lib/python3.6/site-packages/databricks/koalas/generic.py:406: FutureWarning: `get_dtype_counts` has been deprecated and will be removed in a future version. For DataFrames use `.dtypes.value_counts()\n",
      "  FutureWarning,\n"
     ]
    },
    {
     "name": "stdout",
     "output_type": "stream",
     "text": [
      "databricks.koalas.frame.DataFrame\n",
      "Index: 3096313 entries, 0 to 3096312\n",
      "Data columns (total 28 columns):\n",
      "cicid       3096313 non-null float64\n",
      "i94yr       3096313 non-null float64\n",
      "i94mon      3096313 non-null float64\n",
      "i94cit      3096313 non-null float64\n",
      "i94res      3096313 non-null float64\n",
      "i94port     3096313 non-null object\n",
      "arrdate     3096313 non-null float64\n",
      "i94mode     3096074 non-null float64\n",
      "i94addr     2943721 non-null object\n",
      "depdate     2953856 non-null float64\n",
      "i94bir      3095511 non-null float64\n",
      "i94visa     3096313 non-null float64\n",
      "count       3096313 non-null float64\n",
      "dtadfile    3096312 non-null object\n",
      "visapost    1215063 non-null object\n",
      "occup       8126 non-null object\n",
      "entdepa     3096075 non-null object\n",
      "entdepd     2957884 non-null object\n",
      "entdepu     392 non-null object\n",
      "matflag     2957884 non-null object\n",
      "biryear     3095511 non-null float64\n",
      "dtaddto     3095836 non-null object\n",
      "gender      2682044 non-null object\n",
      "insnum      113708 non-null object\n",
      "airline     3012686 non-null object\n",
      "admnum      3096313 non-null float64\n",
      "fltno       3076764 non-null object\n",
      "visatype    3096313 non-null object\n",
      "dtypes: float64(13), object(15)"
     ]
    }
   ],
   "source": [
    "kdf.info()"
   ]
  },
  {
   "cell_type": "markdown",
   "metadata": {
    "editable": true
   },
   "source": [
    "**i94port** : has XXX which means nothing and if there any missing value."
   ]
  },
  {
   "cell_type": "code",
   "execution_count": 33,
   "metadata": {
    "editable": true
   },
   "outputs": [
    {
     "data": {
      "text/plain": [
       "NYC    485916\n",
       "MIA    343941\n",
       "LOS    310163\n",
       "SFR    152586\n",
       "ORL    149195\n",
       "HHW    142720\n",
       "NEW    136122\n",
       "CHI    130564\n",
       "HOU    101481\n",
       "FTL     95977\n",
       "ATL     92579\n",
       "LVG     89280\n",
       "AGA     80919\n",
       "WAS     74835\n",
       "DAL     71809\n",
       "BOS     57354\n",
       "SEA     47719\n",
       "PHO     38890\n",
       "DET     37832\n",
       "TAM     25632\n",
       "PHI     24973\n",
       "DUB     24371\n",
       "SAI     23628\n",
       "TOR     20886\n",
       "DEN     18260\n",
       "MAA     18151\n",
       "PSP     18117\n",
       "FMY     17514\n",
       "SPM     16973\n",
       "CLT     16228\n",
       "OGG     13259\n",
       "NAS     13032\n",
       "VCV     12706\n",
       "BLA     11087\n",
       "SDP     10944\n",
       "SFB     10159\n",
       "SAJ      9144\n",
       "WPB      9093\n",
       "SNA      7066\n",
       "NIA      6102\n",
       "MON      6006\n",
       "HAM      5207\n",
       "CHM      5197\n",
       "NCA      5197\n",
       "SLC      5118\n",
       "POO      5108\n",
       "SNJ      4490\n",
       "NOL      4409\n",
       "KOA      4042\n",
       "PBB      4035\n",
       "SRQ      3922\n",
       "XXX      3522\n",
       "OAK      3501\n",
       "BAL      3476\n",
       "CLG      3191\n",
       "AUS      3034\n",
       "SHA      3007\n",
       "SYS      2874\n",
       "LEW      2425\n",
       "X96      2378\n",
       "LIH      2292\n",
       "SAC      2201\n",
       "RDU      2112\n",
       "OTM      1857\n",
       "YGF      1763\n",
       "STT      1741\n",
       "CIN      1722\n",
       "PHU      1653\n",
       "SAA      1625\n",
       "HIG      1594\n",
       "PEV      1083\n",
       "BUF      1040\n",
       "NOR      1001\n",
       "THO       984\n",
       "NSV       943\n",
       "OPF       909\n",
       "LNB       884\n",
       "DER       877\n",
       "PEM       849\n",
       "ONT       777\n",
       "YHC       772\n",
       "SPE       762\n",
       "SUM       698\n",
       "ANZ       677\n",
       "OTT       663\n",
       "LYN       662\n",
       "EDA       659\n",
       "LLB       629\n",
       "VIC       626\n",
       "CLE       624\n",
       "STL       571\n",
       "CLM       555\n",
       "PIT       539\n",
       "CAL       532\n",
       "MCA       512\n",
       "INP       426\n",
       "SWE       425\n",
       "HID       396\n",
       "BRO       395\n",
       "HAL       376\n",
       "LAR       355\n",
       "PVD       352\n",
       "YSL       344\n",
       "HAR       340\n",
       "KAN       337\n",
       "NOG       333\n",
       "WIN       330\n",
       "BOA       328\n",
       "RNO       255\n",
       "MIL       248\n",
       "PDN       232\n",
       "PHR       228\n",
       "TUC       219\n",
       "HTM       198\n",
       "CHR       198\n",
       "EPI       178\n",
       "CLS       167\n",
       "ELP       165\n",
       "ROO       164\n",
       "POR       157\n",
       "KEY       155\n",
       "OGD       144\n",
       "TEC       144\n",
       "PIE       140\n",
       "ORO       138\n",
       "HPN       136\n",
       "STR       135\n",
       "BGM       128\n",
       "LOI       123\n",
       "PIR       123\n",
       "MDT       101\n",
       "SSM        92\n",
       "ANC        91\n",
       "LUK        89\n",
       "MAS        87\n",
       "AXB        85\n",
       "MLB        83\n",
       "VIB        79\n",
       "SYR        76\n",
       "ROC        76\n",
       "LCB        72\n",
       "JKM        70\n",
       "SKA        68\n",
       "DOU        64\n",
       "AND        57\n",
       "GPM        51\n",
       "BED        51\n",
       "DLR        51\n",
       "DAC        50\n",
       "CHA        48\n",
       "HVR        45\n",
       "CNA        41\n",
       "MEM        41\n",
       "ROU        40\n",
       "ALC        39\n",
       "EGP        38\n",
       "SGR        38\n",
       "COB        37\n",
       "FWA        37\n",
       "SLU        36\n",
       "DNS        35\n",
       "PEN        34\n",
       "W55        33\n",
       "FRB        32\n",
       "INT        32\n",
       "JAC        31\n",
       "MET        31\n",
       "SAV        29\n",
       "WBE        28\n",
       "RAY        27\n",
       "RIF        25\n",
       "FPR        25\n",
       "CHS        23\n",
       "BQN        23\n",
       "WIL        22\n",
       "DNA        22\n",
       "PTL        21\n",
       "GAL        21\n",
       "MMU        20\n",
       "MRC        18\n",
       "PGR        18\n",
       "CHL        18\n",
       "NRN        17\n",
       "PRE        16\n",
       "FPT        15\n",
       "ADS        15\n",
       "MOR        14\n",
       "FOK        14\n",
       "ROS        14\n",
       "WLL        14\n",
       "BDL        14\n",
       "CAE        14\n",
       "MAD        14\n",
       "MOO        13\n",
       "PTK        12\n",
       "DLB        12\n",
       "ROM        12\n",
       "PRO        12\n",
       "WAR        11\n",
       "AGN        11\n",
       "X44        11\n",
       "MAF        11\n",
       "ABG        11\n",
       "TRO        10\n",
       "BWA        10\n",
       "LAN        10\n",
       "GSP        10\n",
       "OMA        10\n",
       "ADT        10\n",
       "VNY        10\n",
       "RST         9\n",
       "APF         9\n",
       "SWF         9\n",
       "LAU         9\n",
       "HNS         8\n",
       "MHT         8\n",
       "WAL         8\n",
       "COL         8\n",
       "BEE         7\n",
       "JMZ         7\n",
       "NAC         7\n",
       "DAB         7\n",
       "FRT         6\n",
       "LEX         6\n",
       "CRQ         6\n",
       "PAR         6\n",
       "TUR         6\n",
       "CHT         6\n",
       "TKI         6\n",
       "MYR         5\n",
       "FAR         5\n",
       "FTC         5\n",
       "NRG         5\n",
       "NYL         5\n",
       "PNH         5\n",
       "ICT         5\n",
       "FER         5\n",
       "SHR         5\n",
       "ABS         4\n",
       "FAL         4\n",
       "ADW         4\n",
       "FTK         4\n",
       "WHO         4\n",
       "HSV         4\n",
       "BEL         4\n",
       "5T6         4\n",
       "CRY         3\n",
       "JFA         3\n",
       "MWH         3\n",
       "MOB         3\n",
       "ATW         3\n",
       "FTF         3\n",
       "5KE         3\n",
       "DPA         3\n",
       "FRE         3\n",
       "ABQ         3\n",
       "VCB         3\n",
       "FCA         3\n",
       "BTN         3\n",
       "SPO         3\n",
       "SJO         3\n",
       "BAU         3\n",
       "BEB         3\n",
       "HEL         2\n",
       "NOO         2\n",
       "MTH         2\n",
       "NRT         2\n",
       "BHX         2\n",
       "RYY         2\n",
       "HEF         2\n",
       "LUB         2\n",
       "NEC         2\n",
       "SGJ         2\n",
       "PSM         2\n",
       "DVL         2\n",
       "CRP         2\n",
       "BRG         2\n",
       "FRI         2\n",
       "LOU         2\n",
       "MGM         2\n",
       "REN         1\n",
       "BWM         1\n",
       "ANA         1\n",
       "YIP         1\n",
       "SCH         1\n",
       "ERC         1\n",
       "LWT         1\n",
       "NIG         1\n",
       "CPX         1\n",
       "MAI         1\n",
       "NC8         1\n",
       "PCF         1\n",
       "CNC         1\n",
       "PHF         1\n",
       "VNB         1\n",
       "RIO         1\n",
       "HNN         1\n",
       "COO         1\n",
       "MND         1\n",
       "Name: i94port, dtype: int64"
      ]
     },
     "execution_count": 33,
     "metadata": {},
     "output_type": "execute_result"
    }
   ],
   "source": [
    "kdf.i94port.value_counts()"
   ]
  },
  {
   "cell_type": "markdown",
   "metadata": {
    "editable": true
   },
   "source": [
    "There are **3522** records have `XXX` value."
   ]
  },
  {
   "cell_type": "code",
   "execution_count": 34,
   "metadata": {
    "collapsed": true,
    "editable": true,
    "jupyter": {
     "outputs_hidden": true
    }
   },
   "outputs": [
    {
     "data": {
      "text/plain": [
       "NYC    485916\n",
       "MIA    343941\n",
       "LOS    310163\n",
       "SFR    152586\n",
       "ORL    149195\n",
       "HHW    142720\n",
       "NEW    136122\n",
       "CHI    130564\n",
       "HOU    101481\n",
       "FTL     95977\n",
       "ATL     92579\n",
       "LVG     89280\n",
       "AGA     80919\n",
       "WAS     74835\n",
       "DAL     71809\n",
       "BOS     57354\n",
       "SEA     47719\n",
       "PHO     38890\n",
       "DET     37832\n",
       "TAM     25632\n",
       "PHI     24973\n",
       "DUB     24371\n",
       "SAI     23628\n",
       "TOR     20886\n",
       "DEN     18260\n",
       "MAA     18151\n",
       "PSP     18117\n",
       "FMY     17514\n",
       "SPM     16973\n",
       "CLT     16228\n",
       "OGG     13259\n",
       "NAS     13032\n",
       "VCV     12706\n",
       "BLA     11087\n",
       "SDP     10944\n",
       "SFB     10159\n",
       "SAJ      9144\n",
       "WPB      9093\n",
       "SNA      7066\n",
       "NIA      6102\n",
       "MON      6006\n",
       "HAM      5207\n",
       "CHM      5197\n",
       "NCA      5197\n",
       "SLC      5118\n",
       "POO      5108\n",
       "SNJ      4490\n",
       "NOL      4409\n",
       "KOA      4042\n",
       "PBB      4035\n",
       "SRQ      3922\n",
       "OAK      3501\n",
       "BAL      3476\n",
       "CLG      3191\n",
       "AUS      3034\n",
       "SHA      3007\n",
       "SYS      2874\n",
       "LEW      2425\n",
       "X96      2378\n",
       "LIH      2292\n",
       "SAC      2201\n",
       "RDU      2112\n",
       "OTM      1857\n",
       "YGF      1763\n",
       "STT      1741\n",
       "CIN      1722\n",
       "PHU      1653\n",
       "SAA      1625\n",
       "HIG      1594\n",
       "PEV      1083\n",
       "BUF      1040\n",
       "NOR      1001\n",
       "THO       984\n",
       "NSV       943\n",
       "OPF       909\n",
       "LNB       884\n",
       "DER       877\n",
       "PEM       849\n",
       "ONT       777\n",
       "YHC       772\n",
       "SPE       762\n",
       "SUM       698\n",
       "ANZ       677\n",
       "OTT       663\n",
       "LYN       662\n",
       "EDA       659\n",
       "LLB       629\n",
       "VIC       626\n",
       "CLE       624\n",
       "STL       571\n",
       "CLM       555\n",
       "PIT       539\n",
       "CAL       532\n",
       "MCA       512\n",
       "INP       426\n",
       "SWE       425\n",
       "HID       396\n",
       "BRO       395\n",
       "HAL       376\n",
       "LAR       355\n",
       "PVD       352\n",
       "YSL       344\n",
       "HAR       340\n",
       "KAN       337\n",
       "NOG       333\n",
       "WIN       330\n",
       "BOA       328\n",
       "RNO       255\n",
       "MIL       248\n",
       "PDN       232\n",
       "PHR       228\n",
       "TUC       219\n",
       "HTM       198\n",
       "CHR       198\n",
       "EPI       178\n",
       "CLS       167\n",
       "ELP       165\n",
       "ROO       164\n",
       "POR       157\n",
       "KEY       155\n",
       "OGD       144\n",
       "TEC       144\n",
       "PIE       140\n",
       "ORO       138\n",
       "HPN       136\n",
       "STR       135\n",
       "BGM       128\n",
       "LOI       123\n",
       "PIR       123\n",
       "MDT       101\n",
       "SSM        92\n",
       "ANC        91\n",
       "LUK        89\n",
       "MAS        87\n",
       "AXB        85\n",
       "MLB        83\n",
       "VIB        79\n",
       "SYR        76\n",
       "ROC        76\n",
       "LCB        72\n",
       "JKM        70\n",
       "SKA        68\n",
       "DOU        64\n",
       "AND        57\n",
       "GPM        51\n",
       "BED        51\n",
       "DLR        51\n",
       "DAC        50\n",
       "CHA        48\n",
       "HVR        45\n",
       "CNA        41\n",
       "MEM        41\n",
       "ROU        40\n",
       "ALC        39\n",
       "EGP        38\n",
       "SGR        38\n",
       "COB        37\n",
       "FWA        37\n",
       "SLU        36\n",
       "DNS        35\n",
       "PEN        34\n",
       "W55        33\n",
       "FRB        32\n",
       "INT        32\n",
       "JAC        31\n",
       "MET        31\n",
       "SAV        29\n",
       "WBE        28\n",
       "RAY        27\n",
       "RIF        25\n",
       "FPR        25\n",
       "CHS        23\n",
       "BQN        23\n",
       "WIL        22\n",
       "DNA        22\n",
       "PTL        21\n",
       "GAL        21\n",
       "MMU        20\n",
       "MRC        18\n",
       "PGR        18\n",
       "CHL        18\n",
       "NRN        17\n",
       "PRE        16\n",
       "FPT        15\n",
       "ADS        15\n",
       "MOR        14\n",
       "FOK        14\n",
       "ROS        14\n",
       "WLL        14\n",
       "BDL        14\n",
       "CAE        14\n",
       "MAD        14\n",
       "MOO        13\n",
       "PTK        12\n",
       "DLB        12\n",
       "ROM        12\n",
       "PRO        12\n",
       "WAR        11\n",
       "AGN        11\n",
       "X44        11\n",
       "MAF        11\n",
       "ABG        11\n",
       "TRO        10\n",
       "BWA        10\n",
       "LAN        10\n",
       "GSP        10\n",
       "OMA        10\n",
       "ADT        10\n",
       "VNY        10\n",
       "RST         9\n",
       "APF         9\n",
       "SWF         9\n",
       "LAU         9\n",
       "HNS         8\n",
       "MHT         8\n",
       "WAL         8\n",
       "COL         8\n",
       "BEE         7\n",
       "JMZ         7\n",
       "NAC         7\n",
       "DAB         7\n",
       "FRT         6\n",
       "LEX         6\n",
       "CRQ         6\n",
       "PAR         6\n",
       "TUR         6\n",
       "CHT         6\n",
       "TKI         6\n",
       "MYR         5\n",
       "FAR         5\n",
       "FTC         5\n",
       "NRG         5\n",
       "NYL         5\n",
       "PNH         5\n",
       "ICT         5\n",
       "FER         5\n",
       "SHR         5\n",
       "ABS         4\n",
       "FAL         4\n",
       "ADW         4\n",
       "FTK         4\n",
       "WHO         4\n",
       "HSV         4\n",
       "BEL         4\n",
       "5T6         4\n",
       "CRY         3\n",
       "JFA         3\n",
       "MWH         3\n",
       "MOB         3\n",
       "ATW         3\n",
       "FTF         3\n",
       "5KE         3\n",
       "DPA         3\n",
       "FRE         3\n",
       "ABQ         3\n",
       "VCB         3\n",
       "FCA         3\n",
       "BTN         3\n",
       "SPO         3\n",
       "SJO         3\n",
       "BAU         3\n",
       "BEB         3\n",
       "HEL         2\n",
       "NOO         2\n",
       "MTH         2\n",
       "NRT         2\n",
       "BHX         2\n",
       "RYY         2\n",
       "HEF         2\n",
       "LUB         2\n",
       "NEC         2\n",
       "SGJ         2\n",
       "PSM         2\n",
       "DVL         2\n",
       "CRP         2\n",
       "BRG         2\n",
       "FRI         2\n",
       "LOU         2\n",
       "MGM         2\n",
       "REN         1\n",
       "BWM         1\n",
       "ANA         1\n",
       "YIP         1\n",
       "SCH         1\n",
       "ERC         1\n",
       "LWT         1\n",
       "NIG         1\n",
       "CPX         1\n",
       "MAI         1\n",
       "NC8         1\n",
       "PCF         1\n",
       "CNC         1\n",
       "PHF         1\n",
       "VNB         1\n",
       "RIO         1\n",
       "HNN         1\n",
       "COO         1\n",
       "MND         1\n",
       "Name: i94port, dtype: int64"
      ]
     },
     "execution_count": 34,
     "metadata": {},
     "output_type": "execute_result"
    }
   ],
   "source": [
    "kdf = kdf[kdf.i94port != 'XXX']\n",
    "kdf.i94port.value_counts()"
   ]
  },
  {
   "cell_type": "code",
   "execution_count": null,
   "metadata": {
    "editable": true
   },
   "outputs": [],
   "source": []
  },
  {
   "cell_type": "code",
   "execution_count": null,
   "metadata": {
    "editable": true
   },
   "outputs": [],
   "source": []
  },
  {
   "cell_type": "code",
   "execution_count": null,
   "metadata": {
    "editable": true
   },
   "outputs": [],
   "source": []
  },
  {
   "cell_type": "markdown",
   "metadata": {
    "editable": true
   },
   "source": [
    "**count** : all the values of this column has '1' which is not useful, so should be removed."
   ]
  },
  {
   "cell_type": "code",
   "execution_count": 35,
   "metadata": {
    "editable": true
   },
   "outputs": [
    {
     "data": {
      "text/plain": [
       "1.0    3092791\n",
       "Name: count, dtype: int64"
      ]
     },
     "execution_count": 35,
     "metadata": {},
     "output_type": "execute_result"
    }
   ],
   "source": [
    "kdf['count'].value_counts()"
   ]
  },
  {
   "cell_type": "code",
   "execution_count": 36,
   "metadata": {
    "editable": true
   },
   "outputs": [],
   "source": [
    "kdf = kdf.drop('count', axis=1)"
   ]
  },
  {
   "cell_type": "markdown",
   "metadata": {
    "editable": true
   },
   "source": [
    "Data quality check:"
   ]
  },
  {
   "cell_type": "code",
   "execution_count": 37,
   "metadata": {
    "editable": true
   },
   "outputs": [
    {
     "name": "stderr",
     "output_type": "stream",
     "text": [
      "/opt/conda/lib/python3.6/site-packages/databricks/koalas/generic.py:406: FutureWarning: `get_dtype_counts` has been deprecated and will be removed in a future version. For DataFrames use `.dtypes.value_counts()\n",
      "  FutureWarning,\n"
     ]
    },
    {
     "name": "stdout",
     "output_type": "stream",
     "text": [
      "databricks.koalas.frame.DataFrame\n",
      "Index: 3092791 entries, 1 to 3096312\n",
      "Data columns (total 27 columns):\n",
      "cicid       3092791 non-null float64\n",
      "i94yr       3092791 non-null float64\n",
      "i94mon      3092791 non-null float64\n",
      "i94cit      3092791 non-null float64\n",
      "i94res      3092791 non-null float64\n",
      "i94port     3092791 non-null object\n",
      "arrdate     3092791 non-null float64\n",
      "i94mode     3092769 non-null float64\n",
      "i94addr     2941769 non-null object\n",
      "depdate     2952202 non-null float64\n",
      "i94bir      3092016 non-null float64\n",
      "i94visa     3092791 non-null float64\n",
      "dtadfile    3092791 non-null object\n",
      "visapost    1214449 non-null object\n",
      "occup       8122 non-null object\n",
      "entdepa     3092769 non-null object\n",
      "entdepd     2955643 non-null object\n",
      "entdepu     388 non-null object\n",
      "matflag     2955643 non-null object\n",
      "biryear     3092016 non-null float64\n",
      "dtaddto     3092532 non-null object\n",
      "gender      2678739 non-null object\n",
      "insnum      111671 non-null object\n",
      "airline     3011660 non-null object\n",
      "admnum      3092791 non-null float64\n",
      "fltno       3075651 non-null object\n",
      "visatype    3092791 non-null object\n",
      "dtypes: float64(12), object(15)"
     ]
    }
   ],
   "source": [
    "kdf.info()"
   ]
  },
  {
   "cell_type": "markdown",
   "metadata": {
    "editable": true
   },
   "source": [
    " **depdate** and **arrdate** : will be converted to YYYY-MM-DD format."
   ]
  },
  {
   "cell_type": "markdown",
   "metadata": {
    "editable": true
   },
   "source": [
    "Dealing with `depdate` column with **pandas** by this way:<br>\n",
    "df_copy = df.depdate<br>\n",
    "df_copy = pd.to_timedelta(df_copy, unit='D')  + pd.datetime(1960, 1, 1)<br>\n",
    "df_copy.head()"
   ]
  },
  {
   "cell_type": "code",
   "execution_count": 38,
   "metadata": {
    "collapsed": true,
    "editable": true,
    "jupyter": {
     "outputs_hidden": true
    }
   },
   "outputs": [
    {
     "data": {
      "text/plain": [
       "1      2016-04-07\n",
       "2      2016-04-01\n",
       "3      2016-04-01\n",
       "4      2016-04-01\n",
       "5      2016-04-01\n",
       "6      2016-04-01\n",
       "7      2016-04-01\n",
       "8      2016-04-01\n",
       "9      2016-04-01\n",
       "10     2016-04-01\n",
       "11     2016-04-01\n",
       "12     2016-04-01\n",
       "13     2016-04-01\n",
       "14     2016-04-01\n",
       "15     2016-04-01\n",
       "16     2016-04-01\n",
       "17     2016-04-01\n",
       "18     2016-04-01\n",
       "19     2016-04-01\n",
       "20     2016-04-01\n",
       "21     2016-04-01\n",
       "22     2016-04-01\n",
       "23     2016-04-01\n",
       "24     2016-04-01\n",
       "25     2016-04-01\n",
       "26     2016-04-01\n",
       "27     2016-04-01\n",
       "28     2016-04-01\n",
       "29     2016-04-01\n",
       "30     2016-04-01\n",
       "31     2016-04-01\n",
       "32     2016-04-01\n",
       "33     2016-04-01\n",
       "34     2016-04-01\n",
       "35     2016-04-01\n",
       "36     2016-04-01\n",
       "37     2016-04-01\n",
       "38     2016-04-01\n",
       "39     2016-04-01\n",
       "40     2016-04-01\n",
       "41     2016-04-01\n",
       "42     2016-04-01\n",
       "43     2016-04-01\n",
       "44     2016-04-01\n",
       "45     2016-04-01\n",
       "46     2016-04-01\n",
       "47     2016-04-01\n",
       "48     2016-04-01\n",
       "49     2016-04-01\n",
       "50     2016-04-01\n",
       "51     2016-04-01\n",
       "52     2016-04-01\n",
       "53     2016-04-01\n",
       "54     2016-04-01\n",
       "55     2016-04-01\n",
       "56     2016-04-01\n",
       "57     2016-04-01\n",
       "58     2016-04-01\n",
       "59     2016-04-01\n",
       "60     2016-04-01\n",
       "61     2016-04-01\n",
       "62     2016-04-01\n",
       "63     2016-04-01\n",
       "64     2016-04-01\n",
       "65     2016-04-01\n",
       "66     2016-04-01\n",
       "67     2016-04-01\n",
       "68     2016-04-01\n",
       "69     2016-04-01\n",
       "70     2016-04-01\n",
       "71     2016-04-01\n",
       "72     2016-04-01\n",
       "73     2016-04-01\n",
       "74     2016-04-01\n",
       "75     2016-04-01\n",
       "76     2016-04-01\n",
       "77     2016-04-01\n",
       "78     2016-04-01\n",
       "79     2016-04-01\n",
       "80     2016-04-01\n",
       "81     2016-04-01\n",
       "82     2016-04-01\n",
       "83     2016-04-01\n",
       "84     2016-04-01\n",
       "85     2016-04-01\n",
       "86     2016-04-01\n",
       "87     2016-04-01\n",
       "88     2016-04-01\n",
       "89     2016-04-01\n",
       "90     2016-04-01\n",
       "91     2016-04-01\n",
       "92     2016-04-01\n",
       "93     2016-04-01\n",
       "94     2016-04-01\n",
       "95     2016-04-01\n",
       "96     2016-04-01\n",
       "97     2016-04-01\n",
       "98     2016-04-01\n",
       "99     2016-04-01\n",
       "100    2016-04-01\n",
       "101    2016-04-01\n",
       "102    2016-04-01\n",
       "103    2016-04-01\n",
       "104    2016-04-01\n",
       "105    2016-04-01\n",
       "106    2016-04-01\n",
       "107    2016-04-01\n",
       "108    2016-04-01\n",
       "109    2016-04-01\n",
       "110    2016-04-01\n",
       "111    2016-04-01\n",
       "112    2016-04-01\n",
       "113    2016-04-01\n",
       "114    2016-04-01\n",
       "115    2016-04-01\n",
       "116    2016-04-01\n",
       "117    2016-04-01\n",
       "118    2016-04-01\n",
       "119    2016-04-01\n",
       "120    2016-04-01\n",
       "121    2016-04-01\n",
       "122    2016-04-01\n",
       "123    2016-04-01\n",
       "124    2016-04-01\n",
       "125    2016-04-01\n",
       "126    2016-04-01\n",
       "127    2016-04-01\n",
       "128    2016-04-01\n",
       "129    2016-04-01\n",
       "130    2016-04-01\n",
       "131    2016-04-01\n",
       "132    2016-04-01\n",
       "133    2016-04-01\n",
       "134    2016-04-01\n",
       "135    2016-04-01\n",
       "136    2016-04-01\n",
       "137    2016-04-01\n",
       "138    2016-04-01\n",
       "139    2016-04-01\n",
       "140    2016-04-01\n",
       "141    2016-04-01\n",
       "142    2016-04-01\n",
       "143    2016-04-01\n",
       "144    2016-04-01\n",
       "145    2016-04-01\n",
       "146    2016-04-01\n",
       "147    2016-04-01\n",
       "148    2016-04-01\n",
       "149    2016-04-01\n",
       "150    2016-04-01\n",
       "151    2016-04-01\n",
       "152    2016-04-01\n",
       "153    2016-04-01\n",
       "154    2016-04-01\n",
       "155    2016-04-01\n",
       "156    2016-04-01\n",
       "157    2016-04-01\n",
       "158    2016-04-01\n",
       "159    2016-04-01\n",
       "160    2016-04-01\n",
       "161    2016-04-01\n",
       "162    2016-04-01\n",
       "163    2016-04-01\n",
       "164    2016-04-01\n",
       "165    2016-04-01\n",
       "166    2016-04-01\n",
       "167    2016-04-01\n",
       "168    2016-04-01\n",
       "169    2016-04-01\n",
       "170    2016-04-01\n",
       "171    2016-04-01\n",
       "172    2016-04-01\n",
       "173    2016-04-01\n",
       "174    2016-04-01\n",
       "175    2016-04-01\n",
       "176    2016-04-01\n",
       "177    2016-04-01\n",
       "178    2016-04-01\n",
       "179    2016-04-01\n",
       "180    2016-04-01\n",
       "181    2016-04-01\n",
       "182    2016-04-01\n",
       "183    2016-04-01\n",
       "184    2016-04-01\n",
       "185    2016-04-01\n",
       "186    2016-04-01\n",
       "187    2016-04-01\n",
       "188    2016-04-01\n",
       "189    2016-04-01\n",
       "190    2016-04-01\n",
       "191    2016-04-01\n",
       "192    2016-04-01\n",
       "193    2016-04-01\n",
       "194    2016-04-01\n",
       "195    2016-04-01\n",
       "196    2016-04-01\n",
       "197    2016-04-01\n",
       "198    2016-04-01\n",
       "199    2016-04-01\n",
       "200    2016-04-01\n",
       "201    2016-04-01\n",
       "202    2016-04-01\n",
       "203    2016-04-01\n",
       "204    2016-04-01\n",
       "205    2016-04-01\n",
       "206    2016-04-01\n",
       "207    2016-04-01\n",
       "208    2016-04-01\n",
       "209    2016-04-01\n",
       "210    2016-04-01\n",
       "211    2016-04-01\n",
       "212    2016-04-01\n",
       "213    2016-04-01\n",
       "214    2016-04-01\n",
       "215    2016-04-01\n",
       "216    2016-04-01\n",
       "217    2016-04-01\n",
       "218    2016-04-01\n",
       "219    2016-04-01\n",
       "220    2016-04-01\n",
       "221    2016-04-01\n",
       "222    2016-04-01\n",
       "223    2016-04-01\n",
       "224    2016-04-01\n",
       "225    2016-04-01\n",
       "226    2016-04-01\n",
       "227    2016-04-01\n",
       "228    2016-04-01\n",
       "229    2016-04-01\n",
       "230    2016-04-01\n",
       "231    2016-04-01\n",
       "232    2016-04-01\n",
       "233    2016-04-01\n",
       "234    2016-04-01\n",
       "235    2016-04-01\n",
       "236    2016-04-01\n",
       "237    2016-04-01\n",
       "238    2016-04-01\n",
       "239    2016-04-01\n",
       "240    2016-04-01\n",
       "241    2016-04-01\n",
       "242    2016-04-01\n",
       "243    2016-04-01\n",
       "244    2016-04-01\n",
       "245    2016-04-01\n",
       "246    2016-04-01\n",
       "247    2016-04-01\n",
       "248    2016-04-01\n",
       "249    2016-04-01\n",
       "250    2016-04-01\n",
       "251    2016-04-01\n",
       "252    2016-04-01\n",
       "253    2016-04-01\n",
       "254    2016-04-01\n",
       "255    2016-04-01\n",
       "256    2016-04-01\n",
       "257    2016-04-01\n",
       "258    2016-04-01\n",
       "259    2016-04-01\n",
       "260    2016-04-01\n",
       "261    2016-04-01\n",
       "262    2016-04-01\n",
       "263    2016-04-01\n",
       "264    2016-04-01\n",
       "265    2016-04-01\n",
       "266    2016-04-01\n",
       "267    2016-04-01\n",
       "268    2016-04-01\n",
       "269    2016-04-01\n",
       "270    2016-04-01\n",
       "271    2016-04-01\n",
       "272    2016-04-01\n",
       "273    2016-04-01\n",
       "274    2016-04-01\n",
       "275    2016-04-01\n",
       "276    2016-04-01\n",
       "277    2016-04-01\n",
       "278    2016-04-01\n",
       "279    2016-04-01\n",
       "280    2016-04-01\n",
       "281    2016-04-01\n",
       "282    2016-04-01\n",
       "283    2016-04-01\n",
       "284    2016-04-01\n",
       "285    2016-04-01\n",
       "286    2016-04-01\n",
       "287    2016-04-01\n",
       "288    2016-04-01\n",
       "289    2016-04-01\n",
       "290    2016-04-01\n",
       "291    2016-04-01\n",
       "292    2016-04-01\n",
       "293    2016-04-01\n",
       "294    2016-04-01\n",
       "295    2016-04-01\n",
       "296    2016-04-01\n",
       "297    2016-04-01\n",
       "298    2016-04-01\n",
       "299    2016-04-01\n",
       "300    2016-04-01\n",
       "301    2016-04-01\n",
       "302    2016-04-01\n",
       "303    2016-04-01\n",
       "304    2016-04-01\n",
       "305    2016-04-01\n",
       "306    2016-04-01\n",
       "307    2016-04-01\n",
       "308    2016-04-01\n",
       "309    2016-04-01\n",
       "310    2016-04-01\n",
       "311    2016-04-01\n",
       "312    2016-04-01\n",
       "313    2016-04-01\n",
       "314    2016-04-01\n",
       "315    2016-04-01\n",
       "316    2016-04-01\n",
       "317    2016-04-01\n",
       "318    2016-04-01\n",
       "319    2016-04-01\n",
       "320    2016-04-01\n",
       "321    2016-04-01\n",
       "322    2016-04-01\n",
       "323    2016-04-01\n",
       "324    2016-04-01\n",
       "325    2016-04-01\n",
       "326    2016-04-01\n",
       "327    2016-04-01\n",
       "328    2016-04-01\n",
       "329    2016-04-01\n",
       "330    2016-04-01\n",
       "331    2016-04-01\n",
       "332    2016-04-01\n",
       "333    2016-04-01\n",
       "334    2016-04-01\n",
       "335    2016-04-01\n",
       "336    2016-04-01\n",
       "337    2016-04-01\n",
       "338    2016-04-01\n",
       "339    2016-04-01\n",
       "340    2016-04-01\n",
       "341    2016-04-01\n",
       "342    2016-04-01\n",
       "343    2016-04-01\n",
       "344    2016-04-01\n",
       "345    2016-04-01\n",
       "346    2016-04-01\n",
       "347    2016-04-01\n",
       "348    2016-04-01\n",
       "349    2016-04-01\n",
       "350    2016-04-01\n",
       "351    2016-04-01\n",
       "352    2016-04-01\n",
       "353    2016-04-01\n",
       "354    2016-04-01\n",
       "355    2016-04-01\n",
       "356    2016-04-01\n",
       "357    2016-04-01\n",
       "358    2016-04-01\n",
       "359    2016-04-01\n",
       "360    2016-04-01\n",
       "361    2016-04-01\n",
       "362    2016-04-01\n",
       "363    2016-04-01\n",
       "364    2016-04-01\n",
       "365    2016-04-01\n",
       "366    2016-04-01\n",
       "367    2016-04-01\n",
       "368    2016-04-01\n",
       "369    2016-04-01\n",
       "370    2016-04-01\n",
       "371    2016-04-01\n",
       "372    2016-04-01\n",
       "373    2016-04-01\n",
       "374    2016-04-01\n",
       "375    2016-04-01\n",
       "376    2016-04-01\n",
       "377    2016-04-01\n",
       "378    2016-04-01\n",
       "379    2016-04-01\n",
       "380    2016-04-01\n",
       "381    2016-04-01\n",
       "382    2016-04-01\n",
       "383    2016-04-01\n",
       "384    2016-04-01\n",
       "385    2016-04-01\n",
       "386    2016-04-01\n",
       "387    2016-04-01\n",
       "388    2016-04-01\n",
       "389    2016-04-01\n",
       "390    2016-04-01\n",
       "391    2016-04-01\n",
       "392    2016-04-01\n",
       "393    2016-04-01\n",
       "394    2016-04-01\n",
       "395    2016-04-01\n",
       "396    2016-04-01\n",
       "397    2016-04-01\n",
       "398    2016-04-01\n",
       "399    2016-04-01\n",
       "400    2016-04-01\n",
       "401    2016-04-01\n",
       "402    2016-04-01\n",
       "403    2016-04-01\n",
       "404    2016-04-01\n",
       "405    2016-04-01\n",
       "406    2016-04-01\n",
       "407    2016-04-01\n",
       "408    2016-04-01\n",
       "409    2016-04-01\n",
       "410    2016-04-01\n",
       "411    2016-04-01\n",
       "412    2016-04-01\n",
       "413    2016-04-01\n",
       "414    2016-04-01\n",
       "415    2016-04-01\n",
       "416    2016-04-01\n",
       "417    2016-04-01\n",
       "418    2016-04-01\n",
       "419    2016-04-01\n",
       "420    2016-04-01\n",
       "421    2016-04-01\n",
       "422    2016-04-01\n",
       "423    2016-04-01\n",
       "424    2016-04-01\n",
       "425    2016-04-01\n",
       "426    2016-04-01\n",
       "427    2016-04-01\n",
       "428    2016-04-01\n",
       "429    2016-04-01\n",
       "430    2016-04-01\n",
       "431    2016-04-01\n",
       "432    2016-04-01\n",
       "433    2016-04-01\n",
       "434    2016-04-01\n",
       "435    2016-04-01\n",
       "436    2016-04-01\n",
       "437    2016-04-01\n",
       "438    2016-04-01\n",
       "439    2016-04-01\n",
       "440    2016-04-01\n",
       "441    2016-04-01\n",
       "442    2016-04-01\n",
       "443    2016-04-01\n",
       "444    2016-04-01\n",
       "445    2016-04-01\n",
       "446    2016-04-01\n",
       "447    2016-04-01\n",
       "448    2016-04-01\n",
       "449    2016-04-01\n",
       "450    2016-04-01\n",
       "451    2016-04-01\n",
       "452    2016-04-01\n",
       "453    2016-04-01\n",
       "454    2016-04-01\n",
       "455    2016-04-01\n",
       "456    2016-04-01\n",
       "457    2016-04-01\n",
       "458    2016-04-01\n",
       "459    2016-04-01\n",
       "460    2016-04-01\n",
       "461    2016-04-01\n",
       "462    2016-04-01\n",
       "463    2016-04-01\n",
       "464    2016-04-01\n",
       "465    2016-04-01\n",
       "466    2016-04-01\n",
       "467    2016-04-01\n",
       "468    2016-04-01\n",
       "469    2016-04-01\n",
       "470    2016-04-01\n",
       "471    2016-04-01\n",
       "472    2016-04-01\n",
       "473    2016-04-01\n",
       "474    2016-04-01\n",
       "475    2016-04-01\n",
       "476    2016-04-01\n",
       "477    2016-04-01\n",
       "478    2016-04-01\n",
       "479    2016-04-01\n",
       "480    2016-04-01\n",
       "481    2016-04-01\n",
       "482    2016-04-01\n",
       "483    2016-04-01\n",
       "484    2016-04-01\n",
       "485    2016-04-01\n",
       "486    2016-04-01\n",
       "487    2016-04-01\n",
       "488    2016-04-01\n",
       "489    2016-04-01\n",
       "490    2016-04-01\n",
       "491    2016-04-01\n",
       "492    2016-04-01\n",
       "493    2016-04-01\n",
       "494    2016-04-01\n",
       "495    2016-04-01\n",
       "496    2016-04-01\n",
       "497    2016-04-01\n",
       "498    2016-04-01\n",
       "499    2016-04-01\n",
       "500    2016-04-01\n",
       "501    2016-04-01\n",
       "502    2016-04-01\n",
       "503    2016-04-01\n",
       "504    2016-04-01\n",
       "505    2016-04-01\n",
       "506    2016-04-01\n",
       "507    2016-04-01\n",
       "508    2016-04-01\n",
       "509    2016-04-01\n",
       "510    2016-04-01\n",
       "511    2016-04-01\n",
       "512    2016-04-01\n",
       "513    2016-04-01\n",
       "514    2016-04-01\n",
       "515    2016-04-01\n",
       "516    2016-04-01\n",
       "517    2016-04-01\n",
       "518    2016-04-01\n",
       "519    2016-04-01\n",
       "520    2016-04-01\n",
       "521    2016-04-01\n",
       "522    2016-04-01\n",
       "523    2016-04-01\n",
       "524    2016-04-01\n",
       "525    2016-04-01\n",
       "526    2016-04-01\n",
       "527    2016-04-01\n",
       "528    2016-04-01\n",
       "529    2016-04-01\n",
       "530    2016-04-01\n",
       "531    2016-04-01\n",
       "532    2016-04-01\n",
       "533    2016-04-01\n",
       "534    2016-04-01\n",
       "535    2016-04-01\n",
       "536    2016-04-01\n",
       "537    2016-04-01\n",
       "538    2016-04-01\n",
       "539    2016-04-01\n",
       "540    2016-04-01\n",
       "541    2016-04-01\n",
       "542    2016-04-01\n",
       "543    2016-04-01\n",
       "544    2016-04-01\n",
       "545    2016-04-01\n",
       "546    2016-04-01\n",
       "547    2016-04-01\n",
       "548    2016-04-01\n",
       "549    2016-04-01\n",
       "550    2016-04-01\n",
       "551    2016-04-01\n",
       "552    2016-04-01\n",
       "553    2016-04-01\n",
       "554    2016-04-01\n",
       "555    2016-04-01\n",
       "556    2016-04-01\n",
       "557    2016-04-01\n",
       "558    2016-04-01\n",
       "559    2016-04-01\n",
       "560    2016-04-01\n",
       "561    2016-04-01\n",
       "562    2016-04-01\n",
       "563    2016-04-01\n",
       "564    2016-04-01\n",
       "565    2016-04-01\n",
       "566    2016-04-01\n",
       "567    2016-04-01\n",
       "568    2016-04-01\n",
       "569    2016-04-01\n",
       "570    2016-04-01\n",
       "571    2016-04-01\n",
       "572    2016-04-01\n",
       "573    2016-04-01\n",
       "574    2016-04-01\n",
       "575    2016-04-01\n",
       "576    2016-04-01\n",
       "577    2016-04-01\n",
       "578    2016-04-01\n",
       "579    2016-04-01\n",
       "580    2016-04-01\n",
       "581    2016-04-01\n",
       "582    2016-04-01\n",
       "583    2016-04-01\n",
       "584    2016-04-01\n",
       "585    2016-04-01\n",
       "586    2016-04-01\n",
       "587    2016-04-01\n",
       "588    2016-04-01\n",
       "589    2016-04-01\n",
       "590    2016-04-01\n",
       "591    2016-04-01\n",
       "592    2016-04-01\n",
       "593    2016-04-01\n",
       "594    2016-04-01\n",
       "595    2016-04-01\n",
       "596    2016-04-01\n",
       "597    2016-04-01\n",
       "598    2016-04-01\n",
       "599    2016-04-01\n",
       "600    2016-04-01\n",
       "601    2016-04-01\n",
       "602    2016-04-01\n",
       "603    2016-04-01\n",
       "604    2016-04-01\n",
       "605    2016-04-01\n",
       "606    2016-04-01\n",
       "607    2016-04-01\n",
       "608    2016-04-01\n",
       "609    2016-04-01\n",
       "610    2016-04-01\n",
       "611    2016-04-01\n",
       "612    2016-04-01\n",
       "613    2016-04-01\n",
       "614    2016-04-01\n",
       "615    2016-04-01\n",
       "616    2016-04-01\n",
       "617    2016-04-01\n",
       "618    2016-04-01\n",
       "619    2016-04-01\n",
       "620    2016-04-01\n",
       "621    2016-04-01\n",
       "622    2016-04-01\n",
       "623    2016-04-01\n",
       "624    2016-04-01\n",
       "625    2016-04-01\n",
       "626    2016-04-01\n",
       "627    2016-04-01\n",
       "628    2016-04-01\n",
       "629    2016-04-01\n",
       "630    2016-04-01\n",
       "631    2016-04-01\n",
       "632    2016-04-01\n",
       "633    2016-04-01\n",
       "634    2016-04-01\n",
       "635    2016-04-01\n",
       "636    2016-04-01\n",
       "637    2016-04-01\n",
       "638    2016-04-01\n",
       "639    2016-04-01\n",
       "640    2016-04-01\n",
       "641    2016-04-01\n",
       "642    2016-04-01\n",
       "643    2016-04-01\n",
       "644    2016-04-01\n",
       "645    2016-04-01\n",
       "646    2016-04-01\n",
       "647    2016-04-01\n",
       "648    2016-04-01\n",
       "649    2016-04-01\n",
       "650    2016-04-01\n",
       "651    2016-04-01\n",
       "652    2016-04-01\n",
       "653    2016-04-01\n",
       "654    2016-04-01\n",
       "655    2016-04-01\n",
       "656    2016-04-01\n",
       "657    2016-04-01\n",
       "658    2016-04-01\n",
       "659    2016-04-01\n",
       "660    2016-04-01\n",
       "661    2016-04-01\n",
       "662    2016-04-01\n",
       "663    2016-04-01\n",
       "664    2016-04-01\n",
       "665    2016-04-01\n",
       "666    2016-04-01\n",
       "667    2016-04-01\n",
       "668    2016-04-01\n",
       "669    2016-04-01\n",
       "670    2016-04-01\n",
       "671    2016-04-01\n",
       "672    2016-04-01\n",
       "673    2016-04-01\n",
       "674    2016-04-01\n",
       "675    2016-04-01\n",
       "676    2016-04-01\n",
       "677    2016-04-01\n",
       "678    2016-04-01\n",
       "679    2016-04-01\n",
       "680    2016-04-01\n",
       "681    2016-04-01\n",
       "682    2016-04-01\n",
       "683    2016-04-01\n",
       "684    2016-04-01\n",
       "685    2016-04-01\n",
       "686    2016-04-01\n",
       "687    2016-04-01\n",
       "688    2016-04-01\n",
       "689    2016-04-01\n",
       "690    2016-04-01\n",
       "691    2016-04-01\n",
       "692    2016-04-01\n",
       "693    2016-04-01\n",
       "694    2016-04-01\n",
       "695    2016-04-01\n",
       "696    2016-04-01\n",
       "697    2016-04-01\n",
       "698    2016-04-01\n",
       "699    2016-04-01\n",
       "700    2016-04-01\n",
       "701    2016-04-01\n",
       "702    2016-04-01\n",
       "703    2016-04-01\n",
       "704    2016-04-01\n",
       "705    2016-04-01\n",
       "706    2016-04-01\n",
       "707    2016-04-01\n",
       "708    2016-04-01\n",
       "709    2016-04-01\n",
       "710    2016-04-01\n",
       "711    2016-04-01\n",
       "712    2016-04-01\n",
       "713    2016-04-01\n",
       "714    2016-04-01\n",
       "715    2016-04-01\n",
       "716    2016-04-01\n",
       "717    2016-04-01\n",
       "718    2016-04-01\n",
       "719    2016-04-01\n",
       "720    2016-04-01\n",
       "721    2016-04-01\n",
       "722    2016-04-01\n",
       "723    2016-04-01\n",
       "724    2016-04-01\n",
       "725    2016-04-01\n",
       "726    2016-04-01\n",
       "727    2016-04-01\n",
       "728    2016-04-01\n",
       "729    2016-04-01\n",
       "730    2016-04-01\n",
       "731    2016-04-01\n",
       "732    2016-04-01\n",
       "733    2016-04-01\n",
       "734    2016-04-01\n",
       "735    2016-04-01\n",
       "736    2016-04-01\n",
       "737    2016-04-01\n",
       "738    2016-04-01\n",
       "739    2016-04-01\n",
       "740    2016-04-01\n",
       "741    2016-04-01\n",
       "742    2016-04-01\n",
       "743    2016-04-01\n",
       "744    2016-04-01\n",
       "745    2016-04-01\n",
       "746    2016-04-01\n",
       "747    2016-04-01\n",
       "748    2016-04-01\n",
       "749    2016-04-01\n",
       "750    2016-04-01\n",
       "751    2016-04-01\n",
       "752    2016-04-01\n",
       "753    2016-04-01\n",
       "754    2016-04-01\n",
       "755    2016-04-01\n",
       "756    2016-04-01\n",
       "757    2016-04-01\n",
       "758    2016-04-01\n",
       "759    2016-04-01\n",
       "760    2016-04-01\n",
       "761    2016-04-01\n",
       "762    2016-04-01\n",
       "763    2016-04-01\n",
       "764    2016-04-01\n",
       "765    2016-04-01\n",
       "766    2016-04-01\n",
       "767    2016-04-01\n",
       "768    2016-04-01\n",
       "769    2016-04-01\n",
       "770    2016-04-01\n",
       "771    2016-04-01\n",
       "772    2016-04-01\n",
       "773    2016-04-01\n",
       "774    2016-04-01\n",
       "775    2016-04-01\n",
       "776    2016-04-01\n",
       "777    2016-04-01\n",
       "778    2016-04-01\n",
       "779    2016-04-01\n",
       "780    2016-04-01\n",
       "781    2016-04-01\n",
       "782    2016-04-01\n",
       "783    2016-04-01\n",
       "784    2016-04-01\n",
       "785    2016-04-01\n",
       "786    2016-04-01\n",
       "787    2016-04-01\n",
       "788    2016-04-01\n",
       "789    2016-04-01\n",
       "790    2016-04-01\n",
       "791    2016-04-01\n",
       "792    2016-04-01\n",
       "793    2016-04-01\n",
       "794    2016-04-01\n",
       "795    2016-04-01\n",
       "796    2016-04-01\n",
       "797    2016-04-01\n",
       "798    2016-04-01\n",
       "799    2016-04-01\n",
       "800    2016-04-01\n",
       "801    2016-04-01\n",
       "802    2016-04-01\n",
       "803    2016-04-01\n",
       "804    2016-04-01\n",
       "805    2016-04-01\n",
       "806    2016-04-01\n",
       "807    2016-04-01\n",
       "808    2016-04-01\n",
       "809    2016-04-01\n",
       "810    2016-04-01\n",
       "811    2016-04-01\n",
       "812    2016-04-01\n",
       "813    2016-04-01\n",
       "814    2016-04-01\n",
       "815    2016-04-01\n",
       "816    2016-04-01\n",
       "817    2016-04-01\n",
       "818    2016-04-01\n",
       "819    2016-04-01\n",
       "820    2016-04-01\n",
       "821    2016-04-01\n",
       "822    2016-04-01\n",
       "823    2016-04-01\n",
       "824    2016-04-01\n",
       "825    2016-04-01\n",
       "826    2016-04-01\n",
       "827    2016-04-01\n",
       "828    2016-04-01\n",
       "829    2016-04-01\n",
       "830    2016-04-01\n",
       "831    2016-04-01\n",
       "832    2016-04-01\n",
       "833    2016-04-01\n",
       "834    2016-04-01\n",
       "835    2016-04-01\n",
       "836    2016-04-01\n",
       "837    2016-04-01\n",
       "838    2016-04-01\n",
       "839    2016-04-01\n",
       "840    2016-04-01\n",
       "841    2016-04-01\n",
       "842    2016-04-01\n",
       "843    2016-04-01\n",
       "844    2016-04-01\n",
       "845    2016-04-01\n",
       "846    2016-04-01\n",
       "847    2016-04-01\n",
       "848    2016-04-01\n",
       "849    2016-04-01\n",
       "850    2016-04-01\n",
       "851    2016-04-01\n",
       "852    2016-04-01\n",
       "853    2016-04-01\n",
       "854    2016-04-01\n",
       "855    2016-04-01\n",
       "856    2016-04-01\n",
       "857    2016-04-01\n",
       "858    2016-04-01\n",
       "859    2016-04-01\n",
       "860    2016-04-01\n",
       "861    2016-04-01\n",
       "862    2016-04-01\n",
       "863    2016-04-01\n",
       "864    2016-04-01\n",
       "865    2016-04-01\n",
       "866    2016-04-01\n",
       "867    2016-04-01\n",
       "868    2016-04-01\n",
       "869    2016-04-01\n",
       "870    2016-04-01\n",
       "871    2016-04-01\n",
       "872    2016-04-01\n",
       "873    2016-04-01\n",
       "874    2016-04-01\n",
       "875    2016-04-01\n",
       "876    2016-04-01\n",
       "877    2016-04-01\n",
       "878    2016-04-01\n",
       "879    2016-04-01\n",
       "880    2016-04-01\n",
       "881    2016-04-01\n",
       "882    2016-04-01\n",
       "883    2016-04-01\n",
       "884    2016-04-01\n",
       "885    2016-04-01\n",
       "886    2016-04-01\n",
       "887    2016-04-01\n",
       "888    2016-04-01\n",
       "889    2016-04-01\n",
       "890    2016-04-01\n",
       "891    2016-04-01\n",
       "892    2016-04-01\n",
       "893    2016-04-01\n",
       "894    2016-04-01\n",
       "895    2016-04-01\n",
       "896    2016-04-01\n",
       "897    2016-04-01\n",
       "898    2016-04-01\n",
       "899    2016-04-01\n",
       "900    2016-04-01\n",
       "901    2016-04-01\n",
       "902    2016-04-01\n",
       "903    2016-04-01\n",
       "904    2016-04-01\n",
       "905    2016-04-01\n",
       "906    2016-04-01\n",
       "907    2016-04-01\n",
       "908    2016-04-01\n",
       "909    2016-04-01\n",
       "910    2016-04-01\n",
       "911    2016-04-01\n",
       "912    2016-04-01\n",
       "913    2016-04-01\n",
       "914    2016-04-01\n",
       "915    2016-04-01\n",
       "916    2016-04-01\n",
       "917    2016-04-01\n",
       "918    2016-04-01\n",
       "919    2016-04-01\n",
       "920    2016-04-01\n",
       "921    2016-04-01\n",
       "922    2016-04-01\n",
       "923    2016-04-01\n",
       "924    2016-04-01\n",
       "925    2016-04-01\n",
       "926    2016-04-01\n",
       "927    2016-04-01\n",
       "928    2016-04-01\n",
       "929    2016-04-01\n",
       "930    2016-04-01\n",
       "931    2016-04-01\n",
       "932    2016-04-01\n",
       "933    2016-04-01\n",
       "934    2016-04-01\n",
       "935    2016-04-01\n",
       "936    2016-04-01\n",
       "937    2016-04-01\n",
       "938    2016-04-01\n",
       "939    2016-04-01\n",
       "940    2016-04-01\n",
       "941    2016-04-01\n",
       "942    2016-04-01\n",
       "943    2016-04-01\n",
       "944    2016-04-01\n",
       "945    2016-04-01\n",
       "946    2016-04-01\n",
       "947    2016-04-01\n",
       "948    2016-04-01\n",
       "949    2016-04-01\n",
       "950    2016-04-01\n",
       "951    2016-04-01\n",
       "952    2016-04-01\n",
       "953    2016-04-01\n",
       "954    2016-04-01\n",
       "955    2016-04-01\n",
       "956    2016-04-01\n",
       "957    2016-04-01\n",
       "958    2016-04-01\n",
       "959    2016-04-01\n",
       "960    2016-04-01\n",
       "961    2016-04-01\n",
       "962    2016-04-01\n",
       "963    2016-04-01\n",
       "964    2016-04-01\n",
       "965    2016-04-01\n",
       "966    2016-04-01\n",
       "967    2016-04-01\n",
       "968    2016-04-01\n",
       "969    2016-04-01\n",
       "970    2016-04-01\n",
       "971    2016-04-01\n",
       "972    2016-04-01\n",
       "973    2016-04-01\n",
       "974    2016-04-01\n",
       "975    2016-04-01\n",
       "976    2016-04-01\n",
       "977    2016-04-01\n",
       "978    2016-04-01\n",
       "979    2016-04-01\n",
       "980    2016-04-01\n",
       "981    2016-04-01\n",
       "982    2016-04-01\n",
       "983    2016-04-01\n",
       "984    2016-04-01\n",
       "985    2016-04-01\n",
       "986    2016-04-01\n",
       "987    2016-04-01\n",
       "988    2016-04-01\n",
       "989    2016-04-01\n",
       "990    2016-04-01\n",
       "991    2016-04-01\n",
       "992    2016-04-01\n",
       "993    2016-04-01\n",
       "994    2016-04-01\n",
       "995    2016-04-01\n",
       "996    2016-04-01\n",
       "997    2016-04-01\n",
       "998    2016-04-01\n",
       "999    2016-04-01\n",
       "1000   2016-04-01\n",
       "Name: arrdate, dtype: datetime64[ns]\n",
       "Showing only the first 1000"
      ]
     },
     "execution_count": 38,
     "metadata": {},
     "output_type": "execute_result"
    }
   ],
   "source": [
    "kdf_copy = kdf\n",
    "kdf_copy.arrdate.apply(lambda sas_date: pd.to_timedelta(sas_date,unit='D') + pd.datetime(1960, 1, 1))"
   ]
  },
  {
   "cell_type": "code",
   "execution_count": null,
   "metadata": {
    "editable": true
   },
   "outputs": [],
   "source": []
  },
  {
   "cell_type": "code",
   "execution_count": 39,
   "metadata": {
    "editable": true
   },
   "outputs": [
    {
     "data": {
      "text/plain": [
       "1        NaN\n",
       "2    20691.0\n",
       "3    20567.0\n",
       "4    20567.0\n",
       "5    20555.0\n",
       "Name: depdate, dtype: float64"
      ]
     },
     "execution_count": 39,
     "metadata": {},
     "output_type": "execute_result"
    }
   ],
   "source": [
    "kdf.depdate.head()"
   ]
  },
  {
   "cell_type": "markdown",
   "metadata": {
    "editable": true
   },
   "source": [
    "df_copy = df.depdate\n",
    "df_copy = pd.to_timedelta(df_copy, unit='D') + pd.datetime(1960, 1, 1)\n",
    "df_copy.head()"
   ]
  },
  {
   "cell_type": "markdown",
   "metadata": {
    "editable": true
   },
   "source": [
    "kdf.depdate = df_copy\n",
    "kdf.depdate.head()"
   ]
  },
  {
   "cell_type": "code",
   "execution_count": 40,
   "metadata": {
    "editable": true
   },
   "outputs": [
    {
     "data": {
      "text/plain": [
       "1          NaT\n",
       "2   2016-08-25\n",
       "3   2016-04-23\n",
       "4   2016-04-23\n",
       "5   2016-04-11\n",
       "Name: depdate, dtype: datetime64[ns]"
      ]
     },
     "execution_count": 40,
     "metadata": {},
     "output_type": "execute_result"
    }
   ],
   "source": [
    "kdf.depdate = kdf.depdate.apply(lambda sas_date: pd.to_timedelta(sas_date,unit='D') + pd.datetime(1960, 1, 1))\n",
    "kdf.depdate.head()"
   ]
  },
  {
   "cell_type": "markdown",
   "metadata": {
    "editable": true
   },
   "source": [
    "arrdate"
   ]
  },
  {
   "cell_type": "code",
   "execution_count": 41,
   "metadata": {
    "editable": true
   },
   "outputs": [
    {
     "data": {
      "text/plain": [
       "1    20551.0\n",
       "2    20545.0\n",
       "3    20545.0\n",
       "4    20545.0\n",
       "5    20545.0\n",
       "Name: arrdate, dtype: float64"
      ]
     },
     "execution_count": 41,
     "metadata": {},
     "output_type": "execute_result"
    }
   ],
   "source": [
    "kdf.arrdate.head()"
   ]
  },
  {
   "cell_type": "markdown",
   "metadata": {
    "editable": true
   },
   "source": [
    "df_copy = df.arrdate\n",
    "df_copy = pd.to_timedelta(df_copy, unit='D') + pd.datetime(1960, 1, 1)\n",
    "kdf.arrdate = df_copy\n",
    "kdf.arrdate.head()"
   ]
  },
  {
   "cell_type": "code",
   "execution_count": 42,
   "metadata": {
    "editable": true
   },
   "outputs": [
    {
     "data": {
      "text/plain": [
       "1   2016-04-07\n",
       "2   2016-04-01\n",
       "3   2016-04-01\n",
       "4   2016-04-01\n",
       "5   2016-04-01\n",
       "Name: arrdate, dtype: datetime64[ns]"
      ]
     },
     "execution_count": 42,
     "metadata": {},
     "output_type": "execute_result"
    }
   ],
   "source": [
    "kdf.arrdate = kdf.arrdate.apply(lambda sas_date: pd.to_timedelta(sas_date,unit='D') + pd.datetime(1960, 1, 1))\n",
    "kdf.arrdate.head()"
   ]
  },
  {
   "cell_type": "markdown",
   "metadata": {
    "editable": true
   },
   "source": [
    "Data quality check:"
   ]
  },
  {
   "cell_type": "code",
   "execution_count": 43,
   "metadata": {
    "editable": true
   },
   "outputs": [
    {
     "name": "stderr",
     "output_type": "stream",
     "text": [
      "/opt/conda/lib/python3.6/site-packages/databricks/koalas/generic.py:406: FutureWarning: `get_dtype_counts` has been deprecated and will be removed in a future version. For DataFrames use `.dtypes.value_counts()\n",
      "  FutureWarning,\n"
     ]
    },
    {
     "name": "stdout",
     "output_type": "stream",
     "text": [
      "databricks.koalas.frame.DataFrame\n",
      "Index: 3092791 entries, 1 to 3096312\n",
      "Data columns (total 27 columns):\n",
      "cicid       3092791 non-null float64\n",
      "i94yr       3092791 non-null float64\n",
      "i94mon      3092791 non-null float64\n",
      "i94cit      3092791 non-null float64\n",
      "i94res      3092791 non-null float64\n",
      "i94port     3092791 non-null object\n",
      "arrdate     3092791 non-null float64\n",
      "i94mode     3092769 non-null float64\n",
      "i94addr     2941769 non-null object\n",
      "depdate     2952202 non-null float64\n",
      "i94bir      3092016 non-null float64\n",
      "i94visa     3092791 non-null float64\n",
      "dtadfile    3092791 non-null object\n",
      "visapost    1214449 non-null object\n",
      "occup       8122 non-null object\n",
      "entdepa     3092769 non-null object\n",
      "entdepd     2955643 non-null object\n",
      "entdepu     388 non-null object\n",
      "matflag     2955643 non-null object\n",
      "biryear     3092016 non-null float64\n",
      "dtaddto     3092532 non-null object\n",
      "gender      2678739 non-null object\n",
      "insnum      111671 non-null object\n",
      "airline     3011660 non-null object\n",
      "admnum      3092791 non-null float64\n",
      "fltno       3075651 non-null object\n",
      "visatype    3092791 non-null object\n",
      "dtypes: float64(12), object(15)"
     ]
    }
   ],
   "source": [
    "kdf.info()"
   ]
  },
  {
   "cell_type": "code",
   "execution_count": null,
   "metadata": {
    "editable": true
   },
   "outputs": [],
   "source": []
  },
  {
   "cell_type": "code",
   "execution_count": 44,
   "metadata": {
    "editable": true
   },
   "outputs": [],
   "source": [
    "# Performing cleaning tasks here\n",
    "\n",
    "\n",
    "\n"
   ]
  },
  {
   "cell_type": "markdown",
   "metadata": {
    "editable": true
   },
   "source": [
    "### Step 3: Define the Data Model\n",
    "#### 3.1 Conceptual Data Model\n",
    "Map out the conceptual data model and explain why you chose that model\n",
    "\n",
    "#### 3.2 Mapping Out Data Pipelines\n",
    "List the steps necessary to pipeline the data into the chosen data model"
   ]
  },
  {
   "cell_type": "markdown",
   "metadata": {
    "editable": true
   },
   "source": [
    "Fact Table `fact_table`\n",
    "Columns:\n",
    "\n",
    "i94yr = 4 digit year.<br>\n",
    "i94mon = numeric month.<br>\n",
    "i94cit = 3 digit code of origin city.<br>\n",
    "i94port = 3 character code of destination USA city.<br>\n",
    "i94mode = 1 digit travel code.<br>\n",
    "i94visa = reason for immigration.<br>\n",
    "AverageTemperature = average temperature of destination city.<br>\n",
    "\n",
    "\n",
    "\n",
    "Dimension Table `i94_table` - I94 immigration data columns:\n",
    "\n",
    "i94yr = 4 digit year<br>\n",
    "i94mon = numeric month<br>\n",
    "i94cit = 3 digit code of origin city<br>\n",
    "i94port = 3 character code of destination USA city<br>\n",
    "arrdate = arrival date in the USA<br>\n",
    "i94mode = 1 digit travel code<br>\n",
    "depdate = departure date from the USA<br>\n",
    "i94visa = reason for immigration<br>\n",
    "\n",
    "\n",
    "Dimension Table `temp_table` - temperature data columns:\n",
    "\n",
    "AverageTemperature = average temperature<br>\n",
    "City = city name<br>\n",
    "Country = country name<br>\n",
    "Latitude= latitude<br>\n",
    "Longitude = longitude<br>\n",
    "\n",
    "Dimension Table `time_table` -  any columns related to time.\n",
    "<br>columns:\n",
    "\n",
    "i94yr = 4 digit year<br>\n",
    "i94mon = numeric month<br>\n",
    "i94port = 3 character code of destination USA city<br>\n",
    "arrdate = arrival date in the USA<br>\n",
    "depdate = departure date from the USA<br>"
   ]
  },
  {
   "cell_type": "markdown",
   "metadata": {
    "editable": true
   },
   "source": [
    "#### The reason of choosing this data model:\n",
    "* Star schema\n",
    "<br>I choose this model because it is popular and familiar in the market.\n",
    "<br> It is one of the simplest schema to be implemented.\n",
    "<br> It is a simple to read and to understand the schema.\n",
    "<br> Easy to add some tables.\n",
    "<br> Denormalization, fast aggregation and simplify queries."
   ]
  },
  {
   "cell_type": "code",
   "execution_count": null,
   "metadata": {
    "editable": true
   },
   "outputs": [],
   "source": []
  },
  {
   "cell_type": "code",
   "execution_count": null,
   "metadata": {
    "editable": true
   },
   "outputs": [],
   "source": []
  },
  {
   "cell_type": "code",
   "execution_count": null,
   "metadata": {
    "editable": true
   },
   "outputs": [],
   "source": []
  },
  {
   "cell_type": "markdown",
   "metadata": {
    "editable": true
   },
   "source": [
    "# Trying more efficient reading way."
   ]
  },
  {
   "cell_type": "code",
   "execution_count": null,
   "metadata": {
    "editable": true
   },
   "outputs": [],
   "source": []
  },
  {
   "cell_type": "code",
   "execution_count": null,
   "metadata": {
    "editable": true
   },
   "outputs": [],
   "source": []
  },
  {
   "cell_type": "markdown",
   "metadata": {
    "editable": true
   },
   "source": [
    "### Step 4: Run Pipelines to Model the Data \n",
    "#### 4.1 Create the data model\n",
    "Build the data pipelines to create the data model."
   ]
  },
  {
   "cell_type": "markdown",
   "metadata": {
    "editable": true
   },
   "source": [
    "#### Creating tables `i94_table`, `temp_table`, `time_table` `fact_table`"
   ]
  },
  {
   "cell_type": "code",
   "execution_count": 45,
   "metadata": {
    "editable": true
   },
   "outputs": [],
   "source": [
    "# Write code here"
   ]
  },
  {
   "cell_type": "code",
   "execution_count": 46,
   "metadata": {
    "editable": true
   },
   "outputs": [],
   "source": [
    "kdf_spark = kdf.to_spark()"
   ]
  },
  {
   "cell_type": "code",
   "execution_count": 47,
   "metadata": {
    "editable": true
   },
   "outputs": [],
   "source": [
    "kdf_tempratures_spark = kdf_tempratures.to_spark()"
   ]
  },
  {
   "cell_type": "markdown",
   "metadata": {
    "editable": true
   },
   "source": [
    "ETL process..."
   ]
  },
  {
   "cell_type": "code",
   "execution_count": 48,
   "metadata": {
    "editable": true
   },
   "outputs": [],
   "source": [
    "kdf_spark.createOrReplaceTempView('i94_table_view')"
   ]
  },
  {
   "cell_type": "code",
   "execution_count": 49,
   "metadata": {
    "editable": true
   },
   "outputs": [],
   "source": [
    "kdf_tempratures_spark.createOrReplaceTempView('temp_table_view')"
   ]
  },
  {
   "cell_type": "code",
   "execution_count": 50,
   "metadata": {
    "editable": true
   },
   "outputs": [],
   "source": [
    "#Dimension table.\n",
    "temp_table = kdf_tempratures_spark.select([\"AverageTemperature\", \"City\", \"Country\", \"Latitude\", \"Longitude\"])"
   ]
  },
  {
   "cell_type": "code",
   "execution_count": 51,
   "metadata": {
    "editable": true
   },
   "outputs": [],
   "source": [
    "#Dimension table.\n",
    "i94_table = kdf_spark.select([\"i94yr\",\"i94mon\",\"i94cit\",\"i94port\",\"arrdate\",\"i94mode\",\"depdate\",\"i94visa\"])"
   ]
  },
  {
   "cell_type": "code",
   "execution_count": 52,
   "metadata": {
    "editable": true
   },
   "outputs": [],
   "source": [
    "#Dimension table.\n",
    "time_table = kdf_spark.select([\"i94yr\",\"i94mon\",\"i94port\",\"arrdate\",\"depdate\"])"
   ]
  },
  {
   "cell_type": "code",
   "execution_count": 53,
   "metadata": {
    "editable": true
   },
   "outputs": [],
   "source": [
    "#Create the fact table.\n",
    "fact_table = (spark.sql('''\n",
    "                    SELECT \n",
    "                    DISTINCT\n",
    "                    i94_table_view.i94yr as year,\n",
    "                    i94_table_view.i94mon as month,\n",
    "                    i94_table_view.i94cit as city,\n",
    "                    i94_table_view.i94port as port,\n",
    "                    i94_table_view.i94mode as mode,\n",
    "                    i94_table_view.i94visa as visa,\n",
    "                    temp_table_view.AverageTemperature as temperature\n",
    "                    FROM i94_table_view,\n",
    "                    temp_table_view\n",
    "                     '''))"
   ]
  },
  {
   "cell_type": "code",
   "execution_count": null,
   "metadata": {
    "editable": true
   },
   "outputs": [],
   "source": []
  },
  {
   "cell_type": "markdown",
   "metadata": {
    "editable": true
   },
   "source": [
    "#### 4.2 Data Quality Checks\n",
    "Explain the data quality checks you'll perform to ensure the pipeline ran as expected. These could include:\n",
    " * Integrity constraints on the relational database (e.g., unique key, data type, etc.)\n",
    " * Unit tests for the scripts to ensure they are doing the right thing\n",
    " * Source/Count checks to ensure completeness\n",
    " \n",
    "Run Quality Checks"
   ]
  },
  {
   "cell_type": "markdown",
   "metadata": {
    "editable": true
   },
   "source": [
    "Regarding to cleaning step I did many Data Quality Checks after every cleaning step."
   ]
  },
  {
   "cell_type": "markdown",
   "metadata": {
    "editable": true
   },
   "source": [
    "Checking tables `i94_table`, `temp_table`, `time_table` `fact_table`"
   ]
  },
  {
   "cell_type": "code",
   "execution_count": 54,
   "metadata": {
    "editable": true
   },
   "outputs": [
    {
     "name": "stdout",
     "output_type": "stream",
     "text": [
      "+------+------+------+-------+-------+-------+-------+-------+\n",
      "| i94yr|i94mon|i94cit|i94port|arrdate|i94mode|depdate|i94visa|\n",
      "+------+------+------+-------+-------+-------+-------+-------+\n",
      "|2016.0|   4.0| 254.0|    ATL|20551.0|    1.0|   null|    3.0|\n",
      "|2016.0|   4.0| 101.0|    WAS|20545.0|    1.0|20691.0|    2.0|\n",
      "|2016.0|   4.0| 101.0|    NYC|20545.0|    1.0|20567.0|    2.0|\n",
      "|2016.0|   4.0| 101.0|    NYC|20545.0|    1.0|20567.0|    2.0|\n",
      "|2016.0|   4.0| 101.0|    NYC|20545.0|    1.0|20555.0|    1.0|\n",
      "|2016.0|   4.0| 101.0|    NYC|20545.0|    1.0|20558.0|    2.0|\n",
      "|2016.0|   4.0| 101.0|    NYC|20545.0|    1.0|20558.0|    2.0|\n",
      "|2016.0|   4.0| 101.0|    NYC|20545.0|    1.0|20553.0|    2.0|\n",
      "|2016.0|   4.0| 101.0|    NYC|20545.0|    1.0|20562.0|    1.0|\n",
      "|2016.0|   4.0| 101.0|    NYC|20545.0|    1.0|20671.0|    2.0|\n",
      "|2016.0|   4.0| 101.0|    TOR|20545.0|    1.0|20554.0|    2.0|\n",
      "|2016.0|   4.0| 101.0|    BOS|20545.0|    1.0|20549.0|    1.0|\n",
      "|2016.0|   4.0| 101.0|    ATL|20545.0|    1.0|20549.0|    1.0|\n",
      "|2016.0|   4.0| 101.0|    ATL|20545.0|    1.0|20561.0|    2.0|\n",
      "|2016.0|   4.0| 101.0|    ATL|20545.0|    1.0|20578.0|    2.0|\n",
      "|2016.0|   4.0| 101.0|    ATL|20545.0|    1.0|20611.0|    2.0|\n",
      "|2016.0|   4.0| 101.0|    HOU|20545.0|    1.0|20554.0|    2.0|\n",
      "|2016.0|   4.0| 101.0|    NYC|20545.0|    1.0|   null|    2.0|\n",
      "|2016.0|   4.0| 101.0|    NYC|20545.0|    1.0|   null|    2.0|\n",
      "|2016.0|   4.0| 101.0|    NYC|20545.0|    1.0|20561.0|    2.0|\n",
      "+------+------+------+-------+-------+-------+-------+-------+\n",
      "only showing top 20 rows\n",
      "\n"
     ]
    }
   ],
   "source": [
    "i94_table.show()"
   ]
  },
  {
   "cell_type": "markdown",
   "metadata": {
    "editable": true
   },
   "source": [
    "Checking are row counts same as the source. "
   ]
  },
  {
   "cell_type": "markdown",
   "metadata": {
    "editable": true
   },
   "source": [
    " `i94_table`"
   ]
  },
  {
   "cell_type": "code",
   "execution_count": 55,
   "metadata": {
    "editable": true
   },
   "outputs": [],
   "source": [
    "checking_tables = lambda x: True if x == kdf.shape[0] else False"
   ]
  },
  {
   "cell_type": "code",
   "execution_count": 56,
   "metadata": {
    "editable": true
   },
   "outputs": [
    {
     "data": {
      "text/plain": [
       "True"
      ]
     },
     "execution_count": 56,
     "metadata": {},
     "output_type": "execute_result"
    }
   ],
   "source": [
    "num = i94_table.count()\n",
    "checking_tables(num)"
   ]
  },
  {
   "cell_type": "code",
   "execution_count": 57,
   "metadata": {
    "editable": true
   },
   "outputs": [
    {
     "data": {
      "text/plain": [
       "3092791"
      ]
     },
     "execution_count": 57,
     "metadata": {},
     "output_type": "execute_result"
    }
   ],
   "source": [
    "i94_table.count()"
   ]
  },
  {
   "cell_type": "code",
   "execution_count": 58,
   "metadata": {
    "editable": true
   },
   "outputs": [
    {
     "data": {
      "text/plain": [
       "3092791"
      ]
     },
     "execution_count": 58,
     "metadata": {},
     "output_type": "execute_result"
    }
   ],
   "source": [
    "kdf.shape[0]"
   ]
  },
  {
   "cell_type": "markdown",
   "metadata": {
    "editable": true
   },
   "source": [
    " `time_table`"
   ]
  },
  {
   "cell_type": "code",
   "execution_count": 59,
   "metadata": {
    "editable": true
   },
   "outputs": [
    {
     "data": {
      "text/plain": [
       "True"
      ]
     },
     "execution_count": 59,
     "metadata": {},
     "output_type": "execute_result"
    }
   ],
   "source": [
    "checking_tables(time_table.count())"
   ]
  },
  {
   "cell_type": "markdown",
   "metadata": {
    "editable": true
   },
   "source": [
    " `temp_table`"
   ]
  },
  {
   "cell_type": "code",
   "execution_count": 60,
   "metadata": {
    "editable": true
   },
   "outputs": [],
   "source": [
    "checking_temp_table = lambda x: True if x == kdf_tempratures.shape[0] else False"
   ]
  },
  {
   "cell_type": "code",
   "execution_count": 61,
   "metadata": {
    "editable": true
   },
   "outputs": [
    {
     "data": {
      "text/plain": [
       "True"
      ]
     },
     "execution_count": 61,
     "metadata": {},
     "output_type": "execute_result"
    }
   ],
   "source": [
    "checking_temp_table(temp_table.count())"
   ]
  },
  {
   "cell_type": "code",
   "execution_count": 62,
   "metadata": {
    "editable": true
   },
   "outputs": [
    {
     "data": {
      "text/plain": [
       "<bound method DataFrame.show of DataFrame[AverageTemperature: string, City: string, Country: string, Latitude: string, Longitude: string]>"
      ]
     },
     "execution_count": 62,
     "metadata": {},
     "output_type": "execute_result"
    }
   ],
   "source": [
    "temp_table.show"
   ]
  },
  {
   "cell_type": "code",
   "execution_count": 63,
   "metadata": {
    "editable": true
   },
   "outputs": [
    {
     "data": {
      "text/plain": [
       "<bound method DataFrame.show of DataFrame[year: double, month: double, city: double, port: string, mode: double, visa: double, temperature: string]>"
      ]
     },
     "execution_count": 63,
     "metadata": {},
     "output_type": "execute_result"
    }
   ],
   "source": [
    "fact_table.show"
   ]
  },
  {
   "cell_type": "code",
   "execution_count": 64,
   "metadata": {
    "editable": true
   },
   "outputs": [
    {
     "data": {
      "text/plain": [
       "<bound method DataFrame.show of DataFrame[i94yr: double, i94mon: double, i94cit: double, i94port: string, arrdate: double, i94mode: double, depdate: double, i94visa: double]>"
      ]
     },
     "execution_count": 64,
     "metadata": {},
     "output_type": "execute_result"
    }
   ],
   "source": [
    "i94_table.show"
   ]
  },
  {
   "cell_type": "code",
   "execution_count": 65,
   "metadata": {
    "editable": true
   },
   "outputs": [
    {
     "data": {
      "text/plain": [
       "<bound method DataFrame.show of DataFrame[i94yr: double, i94mon: double, i94port: string, arrdate: double, depdate: double]>"
      ]
     },
     "execution_count": 65,
     "metadata": {},
     "output_type": "execute_result"
    }
   ],
   "source": [
    "time_table.show"
   ]
  },
  {
   "cell_type": "markdown",
   "metadata": {
    "editable": true
   },
   "source": [
    "# I executed all the cells before this cell and they were executed successfully.\n",
    "Some cells throw **WARNING**, it is from the engine itself so that is not an error. If the execution of all cells doesn't work well.. I could provide something to prove that all cells have been executed well without any error."
   ]
  },
  {
   "cell_type": "markdown",
   "metadata": {
    "editable": true
   },
   "source": [
    "This is the warning when I run `kdf.info()`:\n",
    "<br>/opt/conda/lib/python3.6/site-packages/databricks/koalas/generic.py:406: FutureWarning: `get_dtype_counts` has been deprecated and will be removed in a future version. For DataFrames use `.dtypes.value_counts()\n",
    "  FutureWarning,"
   ]
  },
  {
   "cell_type": "markdown",
   "metadata": {
    "editable": true
   },
   "source": [
    "If `kdf.info()` is not executed well, kindly make the cell `markdown` or do not run it.\n",
    "<br> I use this `kdf.info()` to show how many nulls in the data, names of the columns and the datatype of each column."
   ]
  },
  {
   "cell_type": "code",
   "execution_count": null,
   "metadata": {
    "editable": true
   },
   "outputs": [],
   "source": []
  },
  {
   "cell_type": "markdown",
   "metadata": {
    "editable": true
   },
   "source": [
    "#### 4.3 Data dictionary \n",
    "Create a data dictionary for your data model. For each field, provide a brief description of what the data is and where it came from. You can include the data dictionary in the notebook or in a separate file."
   ]
  },
  {
   "cell_type": "markdown",
   "metadata": {
    "editable": true
   },
   "source": [
    "* Has been provided in seperate file called `DataDictionary`"
   ]
  },
  {
   "cell_type": "markdown",
   "metadata": {
    "editable": true
   },
   "source": [
    "#### Step 5: Complete Project Write Up\n",
    "* Clearly state the rationale for the choice of tools and technologies for the project.\n",
    "* Propose how often the data should be updated and why.\n",
    "* Write a description of how you would approach the problem differently under the following scenarios:\n",
    " * The data was increased by 100x.\n",
    " * The data populates a dashboard that must be updated on a daily basis by 7am every day.\n",
    " * The database needed to be accessed by 100+ people."
   ]
  },
  {
   "cell_type": "markdown",
   "metadata": {
    "editable": true
   },
   "source": [
    "* The data was increased by 100x.<br>\n",
    "I used Apache Spark to do all the processing data and create the model. The reason for this is because Spark can scale a lot of data and the library spark.sql has many tools to transform data. So, it is not problem if the data is increased while using Spark."
   ]
  },
  {
   "cell_type": "markdown",
   "metadata": {
    "editable": true
   },
   "source": [
    "* The data populates a dashboard that must be updated on a daily basis by 7am every day.<br>\n",
    "Use Airflow which is atuomated, has a dashboard feature and supports alerts (sending emails if a falure happens)."
   ]
  },
  {
   "cell_type": "markdown",
   "metadata": {
    "editable": true
   },
   "source": [
    "* The database needed to be accessed by 100+ people.<br>\n",
    "The more people accessing the database the more CPU resources you need to get a fast experience. By using a distributed database you can improve your replications and partitioning to get faster query results for each user."
   ]
  },
  {
   "cell_type": "markdown",
   "metadata": {
    "editable": true
   },
   "source": [
    "#### Tools of the projects:\n",
    "As I talked in the first part of the capstone that I used 3 tools:\n",
    "* Koalas\n",
    "* Pandas\n",
    "* Pyspark\n",
    "these are my favourite tools that I'm familiar to deal Data with.\n",
    "Otherwise, after many execution and data wrangling in this project I dicovered to cancel **pandas** due to execution time.\n",
    "<br>For example, let's see time execution of gathering SAS Data (has `3096313` records) .\n",
    "* `Koalas` : CPU times: user 464 ms, sys: 632 ms, total: 1.1 s, Wall time: 3min 3s.\n",
    "* `Pandas` : CPU times: user 2min 21s, sys: 40.7 s, total: 3min 2s, Wall time: 21min 11s.\n",
    "* `Spark` : CPU times: user 58.2 ms, sys: 3.19 ms, total: 61.4 ms, Wall time: 16.5 s.\n",
    "\n",
    "Additionally, In Exploratory and Wrangling.\n",
    "<br> I did these steps by `Koalas` because I prefer using Pandas and I'm used to deal with Data by Pandas.\n",
    "<br> So, almost the whole project has been done by **Koalas** because has optimization in gathering and simplicity."
   ]
  },
  {
   "cell_type": "markdown",
   "metadata": {
    "editable": true
   },
   "source": []
  },
  {
   "cell_type": "markdown",
   "metadata": {
    "editable": true
   },
   "source": []
  }
 ],
 "metadata": {
  "kernelspec": {
   "display_name": "Python 3",
   "language": "python",
   "name": "python3"
  },
  "language_info": {
   "codemirror_mode": {
    "name": "ipython",
    "version": 3
   },
   "file_extension": ".py",
   "mimetype": "text/x-python",
   "name": "python",
   "nbconvert_exporter": "python",
   "pygments_lexer": "ipython3",
   "version": "3.6.3"
  }
 },
 "nbformat": 4,
 "nbformat_minor": 4
}
